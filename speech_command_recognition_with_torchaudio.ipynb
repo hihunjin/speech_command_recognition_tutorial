{
  "nbformat": 4,
  "nbformat_minor": 0,
  "metadata": {
    "kernelspec": {
      "display_name": "Python 3",
      "language": "python",
      "name": "python3"
    },
    "language_info": {
      "codemirror_mode": {
        "name": "ipython",
        "version": 3
      },
      "file_extension": ".py",
      "mimetype": "text/x-python",
      "name": "python",
      "nbconvert_exporter": "python",
      "pygments_lexer": "ipython3",
      "version": "3.6.12"
    },
    "colab": {
      "name": "speech_command_recognition_with_torchaudio.ipynb",
      "provenance": [],
      "include_colab_link": true
    },
    "accelerator": "GPU",
    "widgets": {
      "application/vnd.jupyter.widget-state+json": {
        "8dd730f1bf2242dcbebb22a0061a7313": {
          "model_module": "@jupyter-widgets/controls",
          "model_name": "HBoxModel",
          "state": {
            "_view_name": "HBoxView",
            "_dom_classes": [],
            "_model_name": "HBoxModel",
            "_view_module": "@jupyter-widgets/controls",
            "_model_module_version": "1.5.0",
            "_view_count": null,
            "_view_module_version": "1.5.0",
            "box_style": "",
            "layout": "IPY_MODEL_4fd38246e91848299c96cf04c9b0dfc7",
            "_model_module": "@jupyter-widgets/controls",
            "children": [
              "IPY_MODEL_c5a390cb36904425afa21971248080c2",
              "IPY_MODEL_870da89df6364a5d83d459f23587802d"
            ]
          }
        },
        "4fd38246e91848299c96cf04c9b0dfc7": {
          "model_module": "@jupyter-widgets/base",
          "model_name": "LayoutModel",
          "state": {
            "_view_name": "LayoutView",
            "grid_template_rows": null,
            "right": null,
            "justify_content": null,
            "_view_module": "@jupyter-widgets/base",
            "overflow": null,
            "_model_module_version": "1.2.0",
            "_view_count": null,
            "flex_flow": null,
            "width": null,
            "min_width": null,
            "border": null,
            "align_items": null,
            "bottom": null,
            "_model_module": "@jupyter-widgets/base",
            "top": null,
            "grid_column": null,
            "overflow_y": null,
            "overflow_x": null,
            "grid_auto_flow": null,
            "grid_area": null,
            "grid_template_columns": null,
            "flex": null,
            "_model_name": "LayoutModel",
            "justify_items": null,
            "grid_row": null,
            "max_height": null,
            "align_content": null,
            "visibility": null,
            "align_self": null,
            "height": null,
            "min_height": null,
            "padding": null,
            "grid_auto_rows": null,
            "grid_gap": null,
            "max_width": null,
            "order": null,
            "_view_module_version": "1.2.0",
            "grid_template_areas": null,
            "object_position": null,
            "object_fit": null,
            "grid_auto_columns": null,
            "margin": null,
            "display": null,
            "left": null
          }
        },
        "c5a390cb36904425afa21971248080c2": {
          "model_module": "@jupyter-widgets/controls",
          "model_name": "FloatProgressModel",
          "state": {
            "_view_name": "ProgressView",
            "style": "IPY_MODEL_3fe6cdd2094247e69600499adec69c59",
            "_dom_classes": [],
            "description": "100%",
            "_model_name": "FloatProgressModel",
            "bar_style": "success",
            "max": 2428923189,
            "_view_module": "@jupyter-widgets/controls",
            "_model_module_version": "1.5.0",
            "value": 2428923189,
            "_view_count": null,
            "_view_module_version": "1.5.0",
            "orientation": "horizontal",
            "min": 0,
            "description_tooltip": null,
            "_model_module": "@jupyter-widgets/controls",
            "layout": "IPY_MODEL_ecf892d3724b4c98bfe84a3848f67497"
          }
        },
        "870da89df6364a5d83d459f23587802d": {
          "model_module": "@jupyter-widgets/controls",
          "model_name": "HTMLModel",
          "state": {
            "_view_name": "HTMLView",
            "style": "IPY_MODEL_bbf12ba8860545158512662dd42fecbf",
            "_dom_classes": [],
            "description": "",
            "_model_name": "HTMLModel",
            "placeholder": "​",
            "_view_module": "@jupyter-widgets/controls",
            "_model_module_version": "1.5.0",
            "value": " 2.26G/2.26G [00:38&lt;00:00, 63.0MB/s]",
            "_view_count": null,
            "_view_module_version": "1.5.0",
            "description_tooltip": null,
            "_model_module": "@jupyter-widgets/controls",
            "layout": "IPY_MODEL_a3c2ef357b7a46b6a5e31874862dfd7b"
          }
        },
        "3fe6cdd2094247e69600499adec69c59": {
          "model_module": "@jupyter-widgets/controls",
          "model_name": "ProgressStyleModel",
          "state": {
            "_view_name": "StyleView",
            "_model_name": "ProgressStyleModel",
            "description_width": "initial",
            "_view_module": "@jupyter-widgets/base",
            "_model_module_version": "1.5.0",
            "_view_count": null,
            "_view_module_version": "1.2.0",
            "bar_color": null,
            "_model_module": "@jupyter-widgets/controls"
          }
        },
        "ecf892d3724b4c98bfe84a3848f67497": {
          "model_module": "@jupyter-widgets/base",
          "model_name": "LayoutModel",
          "state": {
            "_view_name": "LayoutView",
            "grid_template_rows": null,
            "right": null,
            "justify_content": null,
            "_view_module": "@jupyter-widgets/base",
            "overflow": null,
            "_model_module_version": "1.2.0",
            "_view_count": null,
            "flex_flow": null,
            "width": null,
            "min_width": null,
            "border": null,
            "align_items": null,
            "bottom": null,
            "_model_module": "@jupyter-widgets/base",
            "top": null,
            "grid_column": null,
            "overflow_y": null,
            "overflow_x": null,
            "grid_auto_flow": null,
            "grid_area": null,
            "grid_template_columns": null,
            "flex": null,
            "_model_name": "LayoutModel",
            "justify_items": null,
            "grid_row": null,
            "max_height": null,
            "align_content": null,
            "visibility": null,
            "align_self": null,
            "height": null,
            "min_height": null,
            "padding": null,
            "grid_auto_rows": null,
            "grid_gap": null,
            "max_width": null,
            "order": null,
            "_view_module_version": "1.2.0",
            "grid_template_areas": null,
            "object_position": null,
            "object_fit": null,
            "grid_auto_columns": null,
            "margin": null,
            "display": null,
            "left": null
          }
        },
        "bbf12ba8860545158512662dd42fecbf": {
          "model_module": "@jupyter-widgets/controls",
          "model_name": "DescriptionStyleModel",
          "state": {
            "_view_name": "StyleView",
            "_model_name": "DescriptionStyleModel",
            "description_width": "",
            "_view_module": "@jupyter-widgets/base",
            "_model_module_version": "1.5.0",
            "_view_count": null,
            "_view_module_version": "1.2.0",
            "_model_module": "@jupyter-widgets/controls"
          }
        },
        "a3c2ef357b7a46b6a5e31874862dfd7b": {
          "model_module": "@jupyter-widgets/base",
          "model_name": "LayoutModel",
          "state": {
            "_view_name": "LayoutView",
            "grid_template_rows": null,
            "right": null,
            "justify_content": null,
            "_view_module": "@jupyter-widgets/base",
            "overflow": null,
            "_model_module_version": "1.2.0",
            "_view_count": null,
            "flex_flow": null,
            "width": null,
            "min_width": null,
            "border": null,
            "align_items": null,
            "bottom": null,
            "_model_module": "@jupyter-widgets/base",
            "top": null,
            "grid_column": null,
            "overflow_y": null,
            "overflow_x": null,
            "grid_auto_flow": null,
            "grid_area": null,
            "grid_template_columns": null,
            "flex": null,
            "_model_name": "LayoutModel",
            "justify_items": null,
            "grid_row": null,
            "max_height": null,
            "align_content": null,
            "visibility": null,
            "align_self": null,
            "height": null,
            "min_height": null,
            "padding": null,
            "grid_auto_rows": null,
            "grid_gap": null,
            "max_width": null,
            "order": null,
            "_view_module_version": "1.2.0",
            "grid_template_areas": null,
            "object_position": null,
            "object_fit": null,
            "grid_auto_columns": null,
            "margin": null,
            "display": null,
            "left": null
          }
        },
        "e873963ba3d447c8aa7c42d2134864a5": {
          "model_module": "@jupyter-widgets/controls",
          "model_name": "HBoxModel",
          "state": {
            "_view_name": "HBoxView",
            "_dom_classes": [],
            "_model_name": "HBoxModel",
            "_view_module": "@jupyter-widgets/controls",
            "_model_module_version": "1.5.0",
            "_view_count": null,
            "_view_module_version": "1.5.0",
            "box_style": "",
            "layout": "IPY_MODEL_1848c89d88b2488fa7c4fe90126f049f",
            "_model_module": "@jupyter-widgets/controls",
            "children": [
              "IPY_MODEL_41450253a6c548219e1ae64084b5ba17",
              "IPY_MODEL_2806a813e905469b8e495b6df14524db"
            ]
          }
        },
        "1848c89d88b2488fa7c4fe90126f049f": {
          "model_module": "@jupyter-widgets/base",
          "model_name": "LayoutModel",
          "state": {
            "_view_name": "LayoutView",
            "grid_template_rows": null,
            "right": null,
            "justify_content": null,
            "_view_module": "@jupyter-widgets/base",
            "overflow": null,
            "_model_module_version": "1.2.0",
            "_view_count": null,
            "flex_flow": null,
            "width": null,
            "min_width": null,
            "border": null,
            "align_items": null,
            "bottom": null,
            "_model_module": "@jupyter-widgets/base",
            "top": null,
            "grid_column": null,
            "overflow_y": null,
            "overflow_x": null,
            "grid_auto_flow": null,
            "grid_area": null,
            "grid_template_columns": null,
            "flex": null,
            "_model_name": "LayoutModel",
            "justify_items": null,
            "grid_row": null,
            "max_height": null,
            "align_content": null,
            "visibility": null,
            "align_self": null,
            "height": null,
            "min_height": null,
            "padding": null,
            "grid_auto_rows": null,
            "grid_gap": null,
            "max_width": null,
            "order": null,
            "_view_module_version": "1.2.0",
            "grid_template_areas": null,
            "object_position": null,
            "object_fit": null,
            "grid_auto_columns": null,
            "margin": null,
            "display": null,
            "left": null
          }
        },
        "41450253a6c548219e1ae64084b5ba17": {
          "model_module": "@jupyter-widgets/controls",
          "model_name": "FloatProgressModel",
          "state": {
            "_view_name": "ProgressView",
            "style": "IPY_MODEL_01e6f61d93514c45a5e99c5f83ef1748",
            "_dom_classes": [],
            "description": "100%",
            "_model_name": "FloatProgressModel",
            "bar_style": "danger",
            "max": 2,
            "_view_module": "@jupyter-widgets/controls",
            "_model_module_version": "1.5.0",
            "value": 1.9999999999999796,
            "_view_count": null,
            "_view_module_version": "1.5.0",
            "orientation": "horizontal",
            "min": 0,
            "description_tooltip": null,
            "_model_module": "@jupyter-widgets/controls",
            "layout": "IPY_MODEL_fcaf2ec692704789884e4910d8d4d9b0"
          }
        },
        "2806a813e905469b8e495b6df14524db": {
          "model_module": "@jupyter-widgets/controls",
          "model_name": "HTMLModel",
          "state": {
            "_view_name": "HTMLView",
            "style": "IPY_MODEL_b7e160002d5a4a8387e297eb340e7b5a",
            "_dom_classes": [],
            "description": "",
            "_model_name": "HTMLModel",
            "placeholder": "​",
            "_view_module": "@jupyter-widgets/controls",
            "_model_module_version": "1.5.0",
            "value": " 1.9999999999999796/2 [01:30&lt;00:00, 45.42s/it]",
            "_view_count": null,
            "_view_module_version": "1.5.0",
            "description_tooltip": null,
            "_model_module": "@jupyter-widgets/controls",
            "layout": "IPY_MODEL_5647b4370516419c864089f6a0fd2496"
          }
        },
        "01e6f61d93514c45a5e99c5f83ef1748": {
          "model_module": "@jupyter-widgets/controls",
          "model_name": "ProgressStyleModel",
          "state": {
            "_view_name": "StyleView",
            "_model_name": "ProgressStyleModel",
            "description_width": "initial",
            "_view_module": "@jupyter-widgets/base",
            "_model_module_version": "1.5.0",
            "_view_count": null,
            "_view_module_version": "1.2.0",
            "bar_color": null,
            "_model_module": "@jupyter-widgets/controls"
          }
        },
        "fcaf2ec692704789884e4910d8d4d9b0": {
          "model_module": "@jupyter-widgets/base",
          "model_name": "LayoutModel",
          "state": {
            "_view_name": "LayoutView",
            "grid_template_rows": null,
            "right": null,
            "justify_content": null,
            "_view_module": "@jupyter-widgets/base",
            "overflow": null,
            "_model_module_version": "1.2.0",
            "_view_count": null,
            "flex_flow": null,
            "width": null,
            "min_width": null,
            "border": null,
            "align_items": null,
            "bottom": null,
            "_model_module": "@jupyter-widgets/base",
            "top": null,
            "grid_column": null,
            "overflow_y": null,
            "overflow_x": null,
            "grid_auto_flow": null,
            "grid_area": null,
            "grid_template_columns": null,
            "flex": null,
            "_model_name": "LayoutModel",
            "justify_items": null,
            "grid_row": null,
            "max_height": null,
            "align_content": null,
            "visibility": null,
            "align_self": null,
            "height": null,
            "min_height": null,
            "padding": null,
            "grid_auto_rows": null,
            "grid_gap": null,
            "max_width": null,
            "order": null,
            "_view_module_version": "1.2.0",
            "grid_template_areas": null,
            "object_position": null,
            "object_fit": null,
            "grid_auto_columns": null,
            "margin": null,
            "display": null,
            "left": null
          }
        },
        "b7e160002d5a4a8387e297eb340e7b5a": {
          "model_module": "@jupyter-widgets/controls",
          "model_name": "DescriptionStyleModel",
          "state": {
            "_view_name": "StyleView",
            "_model_name": "DescriptionStyleModel",
            "description_width": "",
            "_view_module": "@jupyter-widgets/base",
            "_model_module_version": "1.5.0",
            "_view_count": null,
            "_view_module_version": "1.2.0",
            "_model_module": "@jupyter-widgets/controls"
          }
        },
        "5647b4370516419c864089f6a0fd2496": {
          "model_module": "@jupyter-widgets/base",
          "model_name": "LayoutModel",
          "state": {
            "_view_name": "LayoutView",
            "grid_template_rows": null,
            "right": null,
            "justify_content": null,
            "_view_module": "@jupyter-widgets/base",
            "overflow": null,
            "_model_module_version": "1.2.0",
            "_view_count": null,
            "flex_flow": null,
            "width": null,
            "min_width": null,
            "border": null,
            "align_items": null,
            "bottom": null,
            "_model_module": "@jupyter-widgets/base",
            "top": null,
            "grid_column": null,
            "overflow_y": null,
            "overflow_x": null,
            "grid_auto_flow": null,
            "grid_area": null,
            "grid_template_columns": null,
            "flex": null,
            "_model_name": "LayoutModel",
            "justify_items": null,
            "grid_row": null,
            "max_height": null,
            "align_content": null,
            "visibility": null,
            "align_self": null,
            "height": null,
            "min_height": null,
            "padding": null,
            "grid_auto_rows": null,
            "grid_gap": null,
            "max_width": null,
            "order": null,
            "_view_module_version": "1.2.0",
            "grid_template_areas": null,
            "object_position": null,
            "object_fit": null,
            "grid_auto_columns": null,
            "margin": null,
            "display": null,
            "left": null
          }
        }
      }
    }
  },
  "cells": [
    {
      "cell_type": "markdown",
      "metadata": {
        "id": "view-in-github",
        "colab_type": "text"
      },
      "source": [
        "<a href=\"https://colab.research.google.com/github/hihunjin/speech_command_recognition_tutorial/blob/main/speech_command_recognition_with_torchaudio.ipynb\" target=\"_parent\"><img src=\"https://colab.research.google.com/assets/colab-badge.svg\" alt=\"Open In Colab\"/></a>"
      ]
    },
    {
      "cell_type": "code",
      "metadata": {
        "id": "NXRd5WiNVnAW"
      },
      "source": [
        "%matplotlib inline"
      ],
      "execution_count": 1,
      "outputs": []
    },
    {
      "cell_type": "markdown",
      "metadata": {
        "id": "iYUlfPYiVnAW"
      },
      "source": [
        "\n",
        "Speech Command Recognition with torchaudio\n",
        "******************************************\n",
        "\n",
        "This tutorial will show you how to correctly format an audio dataset and\n",
        "then train/test an audio classifier network on the dataset.\n",
        "\n",
        "Colab has GPU option available. In the menu tabs, select “Runtime” then\n",
        "“Change runtime type”. In the pop-up that follows, you can choose GPU.\n",
        "After the change, your runtime should automatically restart (which means\n",
        "information from executed cells disappear).\n",
        "\n",
        "First, let’s import the common torch packages such as\n",
        "`torchaudio <https://github.com/pytorch/audio>`__ that can be installed\n",
        "by following the instructions on the website.\n",
        "\n",
        "\n"
      ]
    },
    {
      "cell_type": "code",
      "metadata": {
        "id": "J4r-wxueVxLy",
        "outputId": "205c7c8e-4e67-450f-d583-ce2dfb33615f",
        "colab": {
          "base_uri": "https://localhost:8080/"
        }
      },
      "source": [
        "!pip install torchaudio==0.9.0 -f https://download.pytorch.org/whl/torch_stable.html\n",
        "!pip install pydub"
      ],
      "execution_count": 1,
      "outputs": [
        {
          "output_type": "stream",
          "text": [
            "Looking in links: https://download.pytorch.org/whl/torch_stable.html\n",
            "Collecting torchaudio==0.9.0\n",
            "\u001b[?25l  Downloading https://files.pythonhosted.org/packages/a8/20/eab40caad8f4b97f5e91a5de8ba5ec29115e08fa4c9a808725490b7b4844/torchaudio-0.9.0-cp37-cp37m-manylinux1_x86_64.whl (1.9MB)\n",
            "\u001b[K     |████████████████████████████████| 1.9MB 4.1MB/s \n",
            "\u001b[?25hRequirement already satisfied: torch==1.9.0 in /usr/local/lib/python3.7/dist-packages (from torchaudio==0.9.0) (1.9.0)\n",
            "Requirement already satisfied: typing-extensions in /usr/local/lib/python3.7/dist-packages (from torch==1.9.0->torchaudio==0.9.0) (3.7.4.3)\n",
            "Installing collected packages: torchaudio\n",
            "  Found existing installation: torchaudio 0.7.0\n",
            "    Uninstalling torchaudio-0.7.0:\n",
            "      Successfully uninstalled torchaudio-0.7.0\n",
            "Successfully installed torchaudio-0.9.0\n",
            "Requirement already satisfied: pydub in /usr/local/lib/python3.7/dist-packages (0.25.1)\n"
          ],
          "name": "stdout"
        }
      ]
    },
    {
      "cell_type": "code",
      "metadata": {
        "id": "3kuP869TVnAX"
      },
      "source": [
        "# Uncomment the following line to run in Google Colab\n",
        "\n",
        "# CPU:\n",
        "# !pip install torch==1.7.0+cpu torchvision==0.8.1+cpu torchaudio==0.7.0 -f https://download.pytorch.org/whl/torch_stable.html\n",
        "\n",
        "# GPU:\n",
        "# !pip install torch==1.7.0+cu101 torchvision==0.8.1+cu101 torchaudio==0.7.0 -f https://download.pytorch.org/whl/torch_stable.html\n",
        "\n",
        "# For interactive demo at the end:\n",
        "# !pip install pydub\n",
        "\n",
        "import torch\n",
        "import torch.nn as nn\n",
        "import torch.nn.functional as F\n",
        "import torch.optim as optim\n",
        "import torchaudio\n",
        "\n",
        "import matplotlib.pyplot as plt\n",
        "import IPython.display as ipd\n",
        "from tqdm.notebook import tqdm"
      ],
      "execution_count": 2,
      "outputs": []
    },
    {
      "cell_type": "markdown",
      "metadata": {
        "id": "FQFG3tbLVnAY"
      },
      "source": [
        "Let’s check if a CUDA GPU is available and select our device. Running\n",
        "the network on a GPU will greatly decrease the training/testing runtime.\n",
        "\n",
        "\n"
      ]
    },
    {
      "cell_type": "code",
      "metadata": {
        "id": "ePsLO5YEVnAY",
        "outputId": "2d4ce2ac-7ddc-4905-ca95-aec43d484b4f",
        "colab": {
          "base_uri": "https://localhost:8080/"
        }
      },
      "source": [
        "device = torch.device(\"cuda\" if torch.cuda.is_available() else \"cpu\")\n",
        "print(device)"
      ],
      "execution_count": 3,
      "outputs": [
        {
          "output_type": "stream",
          "text": [
            "cuda\n"
          ],
          "name": "stdout"
        }
      ]
    },
    {
      "cell_type": "markdown",
      "metadata": {
        "id": "iSMiCm1JVnAY"
      },
      "source": [
        "Importing the Dataset\n",
        "---------------------\n",
        "\n",
        "We use torchaudio to download and represent the dataset. Here we use\n",
        "`SpeechCommands <https://arxiv.org/abs/1804.03209>`__, which is a\n",
        "datasets of 35 commands spoken by different people. The dataset\n",
        "``SPEECHCOMMANDS`` is a ``torch.utils.data.Dataset`` version of the\n",
        "dataset. In this dataset, all audio files are about 1 second long (and\n",
        "so about 16000 time frames long).\n",
        "\n",
        "The actual loading and formatting steps happen when a data point is\n",
        "being accessed, and torchaudio takes care of converting the audio files\n",
        "to tensors. If one wants to load an audio file directly instead,\n",
        "``torchaudio.load()`` can be used. It returns a tuple containing the\n",
        "newly created tensor along with the sampling frequency of the audio file\n",
        "(16kHz for SpeechCommands).\n",
        "\n",
        "Going back to the dataset, here we create a subclass that splits it into\n",
        "standard training, validation, testing subsets.\n",
        "\n",
        "\n"
      ]
    },
    {
      "cell_type": "code",
      "metadata": {
        "id": "a_qbdjUPVnAZ",
        "outputId": "fa2a4c6b-ebd9-4489-d579-928eb9d16019",
        "colab": {
          "base_uri": "https://localhost:8080/",
          "height": 65,
          "referenced_widgets": [
            "8dd730f1bf2242dcbebb22a0061a7313",
            "4fd38246e91848299c96cf04c9b0dfc7",
            "c5a390cb36904425afa21971248080c2",
            "870da89df6364a5d83d459f23587802d",
            "3fe6cdd2094247e69600499adec69c59",
            "ecf892d3724b4c98bfe84a3848f67497",
            "bbf12ba8860545158512662dd42fecbf",
            "a3c2ef357b7a46b6a5e31874862dfd7b"
          ]
        }
      },
      "source": [
        "from torchaudio.datasets import SPEECHCOMMANDS\n",
        "import os\n",
        "\n",
        "\n",
        "class SubsetSC(SPEECHCOMMANDS):\n",
        "    def __init__(self, subset: str = None):\n",
        "        super().__init__(\"./\", download=True)\n",
        "\n",
        "        def load_list(filename):\n",
        "            filepath = os.path.join(self._path, filename)\n",
        "            with open(filepath) as fileobj:\n",
        "                return [os.path.join(self._path, line.strip()) for line in fileobj]\n",
        "\n",
        "        if subset == \"validation\":\n",
        "            self._walker = load_list(\"validation_list.txt\")\n",
        "        elif subset == \"testing\":\n",
        "            self._walker = load_list(\"testing_list.txt\")\n",
        "        elif subset == \"training\":\n",
        "            excludes = load_list(\"validation_list.txt\") + load_list(\"testing_list.txt\")\n",
        "            excludes = set(excludes)\n",
        "            self._walker = [w for w in self._walker if w not in excludes]\n",
        "\n",
        "\n",
        "# Create training and testing split of the data. We do not use validation in this tutorial.\n",
        "train_set = SubsetSC(\"training\")\n",
        "test_set = SubsetSC(\"testing\")\n",
        "\n",
        "waveform, sample_rate, label, speaker_id, utterance_number = train_set[0]"
      ],
      "execution_count": 4,
      "outputs": [
        {
          "output_type": "display_data",
          "data": {
            "application/vnd.jupyter.widget-view+json": {
              "model_id": "8dd730f1bf2242dcbebb22a0061a7313",
              "version_minor": 0,
              "version_major": 2
            },
            "text/plain": [
              "HBox(children=(FloatProgress(value=0.0, max=2428923189.0), HTML(value='')))"
            ]
          },
          "metadata": {
            "tags": []
          }
        },
        {
          "output_type": "stream",
          "text": [
            "\n"
          ],
          "name": "stdout"
        }
      ]
    },
    {
      "cell_type": "markdown",
      "metadata": {
        "id": "sUXnbdr6VnAa"
      },
      "source": [
        "A data point in the SPEECHCOMMANDS dataset is a tuple made of a waveform\n",
        "(the audio signal), the sample rate, the utterance (label), the ID of\n",
        "the speaker, the number of the utterance.\n",
        "\n",
        "\n"
      ]
    },
    {
      "cell_type": "code",
      "metadata": {
        "id": "Eqa3MJjHVnAa",
        "outputId": "e6c9168d-8bd0-4995-deaf-fb2645c68d68",
        "colab": {
          "base_uri": "https://localhost:8080/",
          "height": 297
        }
      },
      "source": [
        "print(\"Shape of waveform: {}\".format(waveform.size()))\n",
        "print(\"Sample rate of waveform: {}\".format(sample_rate))\n",
        "\n",
        "plt.plot(waveform.t().numpy());"
      ],
      "execution_count": 5,
      "outputs": [
        {
          "output_type": "stream",
          "text": [
            "Shape of waveform: torch.Size([1, 16000])\n",
            "Sample rate of waveform: 16000\n"
          ],
          "name": "stdout"
        },
        {
          "output_type": "display_data",
          "data": {
            "image/png": "[encoded data removed]",
            "text/plain": [
              "<Figure size 432x288 with 1 Axes>"
            ]
          },
          "metadata": {
            "tags": [],
            "needs_background": "light"
          }
        }
      ]
    },
    {
      "cell_type": "markdown",
      "metadata": {
        "id": "xUEaDtmVVnAa"
      },
      "source": [
        "Let’s find the list of labels available in the dataset.\n",
        "\n",
        "\n"
      ]
    },
    {
      "cell_type": "code",
      "metadata": {
        "id": "FroqKYrAVnAb",
        "outputId": "dd71a5aa-a0f9-424a-c1ca-a6d63dadc979",
        "colab": {
          "base_uri": "https://localhost:8080/"
        }
      },
      "source": [
        "labels = sorted(list(set(datapoint[2] for datapoint in train_set)))\n",
        "labels"
      ],
      "execution_count": 6,
      "outputs": [
        {
          "output_type": "execute_result",
          "data": {
            "text/plain": [
              "['backward',\n",
              " 'bed',\n",
              " 'bird',\n",
              " 'cat',\n",
              " 'dog',\n",
              " 'down',\n",
              " 'eight',\n",
              " 'five',\n",
              " 'follow',\n",
              " 'forward',\n",
              " 'four',\n",
              " 'go',\n",
              " 'happy',\n",
              " 'house',\n",
              " 'learn',\n",
              " 'left',\n",
              " 'marvin',\n",
              " 'nine',\n",
              " 'no',\n",
              " 'off',\n",
              " 'on',\n",
              " 'one',\n",
              " 'right',\n",
              " 'seven',\n",
              " 'sheila',\n",
              " 'six',\n",
              " 'stop',\n",
              " 'three',\n",
              " 'tree',\n",
              " 'two',\n",
              " 'up',\n",
              " 'visual',\n",
              " 'wow',\n",
              " 'yes',\n",
              " 'zero']"
            ]
          },
          "metadata": {
            "tags": []
          },
          "execution_count": 6
        }
      ]
    },
    {
      "cell_type": "markdown",
      "metadata": {
        "id": "yBoR3XkXVnAb"
      },
      "source": [
        "The 35 audio labels are commands that are said by users. The first few\n",
        "files are people saying “marvin”.\n",
        "\n",
        "\n"
      ]
    },
    {
      "cell_type": "code",
      "metadata": {
        "id": "7mGBangmVnAb",
        "outputId": "0d77357d-3059-4c3a-d5b8-95f7f76d2f9a",
        "colab": {
          "base_uri": "https://localhost:8080/",
          "height": 75
        }
      },
      "source": [
        "waveform_first, *_ = train_set[0]\n",
        "ipd.Audio(waveform_first.numpy(), rate=sample_rate)\n",
        "\n",
        "waveform_second, *_ = train_set[1]\n",
        "ipd.Audio(waveform_second.numpy(), rate=sample_rate)"
      ],
      "execution_count": 7,
      "outputs": [
        {
          "output_type": "execute_result",
          "data": {
            "text/html": [
              "\n",
              "                <audio controls=\"controls\" >\n",
              "                    <source src=\"data:audio/wav;base64,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\" type=\"audio/wav\" />\n",
              "                    Your browser does not support the audio element.\n",
              "                </audio>\n",
              "              "
            ],
            "text/plain": [
              "<IPython.lib.display.Audio object>"
            ]
          },
          "metadata": {
            "tags": []
          },
          "execution_count": 7
        }
      ]
    },
    {
      "cell_type": "markdown",
      "metadata": {
        "id": "w_rU8yHrVnAc"
      },
      "source": [
        "The last file is someone saying “visual”.\n",
        "\n",
        "\n"
      ]
    },
    {
      "cell_type": "code",
      "metadata": {
        "id": "R-oUt-nxVnAc",
        "outputId": "cea8cb01-afca-4f8a-8d17-0ea59f8f6535",
        "colab": {
          "base_uri": "https://localhost:8080/",
          "height": 75
        }
      },
      "source": [
        "waveform_last, *_ = train_set[-1]\n",
        "ipd.Audio(waveform_last.numpy(), rate=sample_rate)"
      ],
      "execution_count": 8,
      "outputs": [
        {
          "output_type": "execute_result",
          "data": {
            "text/html": [
              "\n",
              "                <audio controls=\"controls\" >\n",
              "                    <source src=\"data:audio/wav;base64,UklGRiR9AABXQVZFZm10IBAAAAABAAEAgD4AAAB9AAACABAAZGF0YQB9AAA8/1X/Ev/a/lX/GP9V/zb/wv4S/1v/JP90/23/4f5V/4b/jP/D/6X/q/+r/8P/w/8MAEMAVQClALcAxAAmAXUBLAF7AZQBlAHFAXsBvwHLAdcB/AHqAdcB8AECAuoB4wGIAWMBUAHoAIAAtwBJABIATwAAAAAAGABbAFsAjACxADgBrAHdAX0CtAJBA9oDzgOcA6MDqQMWA64C0QGZAOj/o/6o/Wr8w/ps+fb3n/YL9cbzRPKN8T3xtvBJ8bfxPvJ38870DPbL96/5UPuW/cP/ywFOBEsG9wc9ClELXwyXDcINvQ7PDnoOqw7gDWANgwxdC+EJfggPB40FiwTGAr8BGQFPABj/VP7N/RX9xvwO/CD8ZPxR/A/9kP2i/XL+wv7t/hj/Bf8w/7f/6P/o/yQAkv+l/0n/YP4E/q79v/wy/A789Ppn+tr5Kfnf+Jz4ffiV+JX4EPmv+VX6H/sO/Dr97P2Y/3oAUAHMAmsDzwSxBXwGIQe0B/EHKAhmCDsItAf2BqAGjQXbBPgDOgNMAnsB7gDi///+Fv53/aH8P/y++437svtK+1b7Vvti+xr8IPx8/Eb9nP2F/mH/t/8eAAEBBwHqAZUClQKEA9oDNgSLBPoE7QTDBLwEiwSwBPgDuwOKA8YCpwInAl0BnwA9AKv/Vf/C/s39tP0D/aH8ZPzd++P7AfyN+2L7jfsM+xP7Bvu3+uj67vqq+oz6mPrb+u76K/tW++/7xvwu/f79VP7a/k//hv/u/9YAdQGyAXACUgJwAroC0gK6AhwDugLLAQgC9QD1APABPgHjAToDHAMoA7UDFwRCBGIF7wU+BqIHBAidCOYIyAhgCNMHWAcNBpkFAAU8BGUDiQICAlsAhv9s/sz8s/zE+3n6Yfpb+mH6kvpb+ir6Bfqd+Qr5+PgQ+Yv5UPvj+1/9jP9VAPABpwIJA84DzgMRBOEE4gVkB6kIfghTCOQGZQMS//P5nfQL8PDtYexs607rf+u16uPoZ+fN5YnlouVC51Tr+fAm97P8oAHvBdoIygonDPgMaQ95EoMVxBidG4Edkx3sG2MZEBa8Er4P4A3ZDP4MyA3HDIILngn2BpwDnwAv/gn9KP1A/RL/NwAHAeIAnv8E/l38aPtt+gD7CPwv/qUAYwEzAi0CygDz/iH9gfsq+gv6bPnC+e764Pnx+D73R/Rd8jzwRe727XDuze+l8WTzKvVJ9sT2PveP+Av6CPyj/rkBhwWpCBoLOgx3DNILMgvdClYKAQvSC4kMHA20DLMLLAvgCHUGQwWQAxwDiQJeAvwBkwBJ/478vfoQ+Wn3y/f89/j4kvos/Cj9Fv75/mf/GAD1AOsCeQRpBp0IZwnDCTEKHQlsCDsInAc2CcMJxAq0DM0MogwyC9UJBAhpBocF4QRjBr8GfAa4BY4Bgfux8eDm590/1mXSXNDJzwHR8NEU0RzOQ8vGyO7GiMcMy5zSx9y25pfw/vjP/8kE6we+CuIOcBX5G6cj7yvlMtM3GDlGNzE1szFSLWAq3SemJ1IoAih0Jj8jcB5oGK4RMgstBz0FqQMFBLEFPgYyBjwEOAGL/pP7Ivkh+Pz3R/mH+9L8Ff39/On7BPnp9gv1qPOJ89LzbPTa9Ar0B/KW7zDszOkw5yflfeWP5ajl/uX25FHkQ+NI4p/jJ+WC6cfvpPUg/MACTQiiDAMRaRR/F6kb8R+zI28nCyq8KuApRSgEJaQhRR7kGXMXmhTHEdYOgQr7BegAe/u99Y3xtO6Y7NTrbOtm607rnOq56Q7puOg56ebq3Oy172TzVPWZ9gL4WPg1+ar6Rfw8/90BRwMbAuP7ZfS97Ork9+DQ3vPdtOAf48rjN+Pl4GLe0tux2RnaDN7F5A3t5/Xn/mQHJA7NEScVQxh4G4sgGCYVLeI0pzsTPwJA1j6zOxs3yjABLCMq0ihFKFYnOiSpIIkaThJuCqkDWv42+uT3ifhP+oT5J/gq9e3wn+y353Dk9OLj49Plpuj+6vTsWO6U7efr1OvD7NHtz/Bs9Bf6PP9SAvcC0gLiAMf9SvtR98r23PbF98P60Pso/XH9c/oJ+Df27PTD9br4Lv39AiQJbA1eEIQRdxFLECsPmg/9EMoTkBYmGZsauho5Gq8WohEFDhkKRAY9BRADAQHKAGD+2/rv9l7zQO8p61Pq9+m/6STsoe6t7q/vjfHg743tuu5m8APvBvG19AX1qPjd+2j7+/uo/e/73PZm8B3rEeeX4fDfbt4F3bnfuuAe3q7bP9tP2bPW5Nam2uXgPOcn7vT1L/5uBYYJbA2wEvoXBh0UI4sqBDNEOmM/KULFRE1GvkPMQP89SD13PD46pTmjODk2FTK8Ko4j7x0LF5UQogxQCs4IIQepAzEAZPzE9n/wsOvj6FXnBOaX5iDptepG6jnpt+ch5cTj/eBj30fhdOPf5Vbo/upb7Fvsx+oa6fXosui56TXrle4/81T1mPWT9qv2F/XH9MDzHfVA+Jv8T/85Ah0J1QlCCToMWg0UCzYOBBJQDycVjxrAFZAW0xrLFL4PkBFnCSwGogz6BFMDpQr1AKP+JQXW9mPyFPz09c/whPn4+MvyQfm//D32wPPo+vb3EvFG+Jv84/YT+4QD+P1q/FsAgfZf7wvwl+YL4tPlW+JA4NviAuDd2vDa/9io0mzTTNei16PcQOUO6Xbu7vX79r77IQKvA8QKwRFyFusfuCddLKIyojffN8k5HDxWOvc7Hj66O3c8aD6eOdA1jzL1K7wl5R/UG/oXyxSBFO0S9A4kDoILaQZZA0P/Mvyp+eX48fgs97L25/XF8onu+eu56dPlueQJ5bnkd+WG52Lo5eVg5jXmk+N25APlnOUT6FHpxe0J7xPtEvFt8KnvjvKN8UryivTo+tX6TPi6At78/vhsDYP9bPSkEsEDSPqVFTwO//4OEIoWHv9lA9MatwCw/nEaywFKAVUYSgEqAHQKrfy0AucE8Pz4/bz+gwdL/AfyZQNQ+8H0Vf+w9RX4VwEg9wv6RfxS+DX+7gCI/CP+vQm3/8LwsPV26WfdOuXs3Afav+T/4crjj+XM4AffKNxC2E7Ytdx749HoPfGy+3T/KQSmBmIF/whXC08O8hZHIDopPjF9N4o8azwZOsw25DFnNBM1CTJiNRs3wDLYMWks7iF8HtIVeg75DdkMPg+rDtYKMgsnB44BgftH9I/z1/IT8iHzQvUK+VL4lPK88Cvt5Omr58Dg3ePV5yXoBezJ7MPsYexo6DTlQOXF5P/hg+U27MburvN/9QL4WPht9dD7DPaq9av/MftQAUEDAgL0DqsA9QD+DG/3SgpPDtHy0wz6CcoAJhnjAR76vRO6B5oBWwDs/W8UfgP09bYXVgVP8SsPcAIC6cACKwU48l/9UwP4/e/7UfzEBcj+jegFBPYGueSpCNsEPezuCaH8U/RwAgH83vep9Kj9bwbR9x4F1QRs/uMPefrd7Z30OuW449HtUOM94zT0mOwK5tfyqus438Lrkufw3wr0q/Fb8ZgEBgABAV8MawMMBR4OMweTD5QZaBhnIbUpcCh5KhMsaigiKUgqLyoYKywspC/cMIQpxynVKlce5xxUHN4QNRKfE1APpg+ZCuEJIghs/nP6SfYB8qXx+/Fs9FLzbvGF8HrsKOpx6lbjrd8A4y/mP+nT5fnmWepb5+DhfORl6oXitOAa6STnMOzx85bq/urb6wDjie709Z76aAAh/V0BDvx6AFUOKQRXBmgdvx5EBgIacSQq8XgWvSsO5OwWMDRB3DgPCzlI4nD87jkw+u/2OinRAR7/lRoFBFUJqQjm+ZESCAdz3eP2RRDA21H3vAQD0tH31gr410zgz/+/34DZXwPs6qDaww567DziXgei78LwQf4B94P9TgkrBcP/3hWfBeT3PgFM81LuXfKz8tftJPrV+rX0v/yz9xTutfS/6UzqwPgt8zz1GwL/A7H/3gaWA/n+Age4BW8G4hORF7YcyiKJKEcpAym+JwgjICj0IQQlaDBrKfYnuDB1IpkdMyNEFOgOhBG9DgAKwhI6FoMHeQmdCCD8Zf3C+b/yG/gg/HT29faU9x31GPYl7VboG+ou6nXoCOkP73PnGulf9CXjyuOl7Lbd5N9c6CXj6+VD7D/p8+YD7zTvEedk6cjrwPga7qT6ngRG+E4EJP/1Cnj+ofwvDR4FnBHhCaAB8htZG24A+xiVI4j3ahqyHTkCTxjPCXwQGQqhC5EXBwHU+ZIE5BA3++L6PP+H6CEVLPe04AsOeOau/RsCrts7+eoB8+Z16MoASOvR39QWy/II0SsFrAFR38v3zQwY3sP64w9C5xMGwgh56zQMPgZ7+0oPHgAi+e8KfO5F7rYEQ+N78t0Koe5X92cJTPO49l38AfJ58D37ufdu+3MJmgF0BSwLSwZNDQUOigh8EDoWSRhwHjMohyJJJlsr9yNlJA0sNSWXG80pMyieHD4n7yu/FFoSpByaDz4GqxMVEVX6uQaKEe7/+/u8+W7xb/ID/Q7ubuMk/zzwYOY3AAnqYuOR8CflYexL6Yjpg+7l4FTwkfAZ453rBuOZ2XPncO6P5R/jz+JG6sHquOgg6Rno/+ul8aD3f/5b9X70NQjYAlT+xACKCDwJZRF4CDAEiDHZB/jqtU/4H8vMXEMTP5HFoSgCZm28pfH/f9fVPdDPXz7yaMZROwwT2s67/aEVA/3fzYwJrxbZv4YA9xU01zbs6vftBMDITOqTIl7DVuhyCCzaG/OS+nHleeJ4/h4AZOC1+YgGCQOk+kf+Bf+ABW8PyvsfChAWxQv9ELof/hb6BEUQERes7aECphSJ+I4B0AVNDV4CgPrUAwcBD+/a/v0CCOnVBKkIOfN7D+oLAvihC8sGfgMnDNAKCw7LFK0ZXySmGWIPzR9UF3MSaBhYGiYZyBJuHSwe9Qr6Dr8UMQBBA+AIlfjaA74F8/nqC0f+5e4CAgf33PYR8LXvKf6b86HzMfYl9nP1MvK67k3v+fDC62rueueU7Q/44OFU8MLd/+Eq8arKB+0u7w/XP/O/7XHgpPXe91zobuxoBSD8r/mkEjD12/paKgUE7vr8GdQWNQj+EXQrpAlnFz0K9RjXOorX5R8QRgzQ1xnnODLfBf8ANYbx9+4aFV74HgCh/NHoxQYV5VXsHiHOzu7nRxZu3mzm0QHz8H/Y0/2b/LrbTe8L/0jwluXa/k714+229Yv5iv1G+Db6+vU7DWQCBfVDCp8F4RLh/nIDCyrm+VoSAzyO9zkQRjw3CsYC8jdiIlboKxiYF/Prsg9yCMf4lQJoADb/GfvD/5HwSvKG8fLvtvUb8+gAzPO59/UF6fbD+t78+vrFBjf7Hf6uEaQJ4A1sEpYD0RTHEdD7gRQdF5H5xxF5Egz7Qx2GDur3RQIIByYLiu8tAjAJ2ep6BYwJFfhb9SP+FPx77RX4PQVe8wPvagKG+k71LPyy9mjxbvti8ZL1KgCH6E35DgIx9sHhUferBWvXJPFt/1PmX/Qq+jT9LfhM+KH8OPc1CBkBe/v0CZUHWwDpFF0ehAPxFRoQkwCNOvwBH+0QLvIMuBSiEQ0PNgkS/w4oRw2m8mLxiiTyG1rAUh/dIu+4jh55EhXEYgU8BN7fSfET8rT46/hV3ovrWAxezSjchiHDyhXSwhdD7BbJLAZW+8/PMfYSEzPb3eNjHojypOePFS4DR+YSHf8INucDLhUagOyOGXkv/wjE+8YygSe5BiIbbzGFF9obASzlGv8bJgagFB8dQ/YF/yEfZf3d7YUNEAP94Pr1ngQV16XjGP9m5gThb/IU7gHkQfmu8+nViOlW9pHrjPWK/YLyBvYeAGT40vya9yIDuQtB9HsK1xQE+RAIJyjlAgf3SSZuCvnwBCArIlr5XxH+KbQHQgkRF+kPPgH8BmEmnP358M85TBFN3MIlExQn4N8CEw+38Xj0ygoc9CD8y/LY6QgCU+pQ2jH2CAcU1izkmgbX7XvosvZI+sbul/Cq+gEBXfwm8owJzg0M3hAglBl6wRIdti/i2WH/6xr4DCr1hxR4FibRPSY+GRPVLxdeFWXlFwnjFMfckwBTFlnhpeOvGwH3UNXyAw3ymeOB+7v0sM9C+sQPNLbN+O4hQMQA9lMWG+DK6F8RaAp+3HMJqBrh4jQRExSW7/IkdAWo+L00Jgvu+tgoeBu5BgA6gR3G83MhITdoE9/9UDqNHYfjVkM/KF3f2S1vLG7xYxmAJubqxPZaF4jkFtxgDYzirdYIAnXt078C6XDzYbcj3ezv08Q92ez09NTW1IAAJN53xPD8UO0F3Z4EE/u47UcNLBQy90H+lBnpD9oD+SUpIBgFsTRqLeoGKDNNG+Ecoy64CoIxzxxEFGRAzBrLAbErCC0B9+oG2DEO83kEJzJ58CLvVh0QDfjSk/t+FtDGzuvJIQHRpd5VE7LaVtDvCqriEcWu/Tjf5tf5CMXkOtdZ9OLsB+TK8YrhltwoG5noVMpmKsr7SLwZIggaGb36/74dtAfU60TyADr96dDeiUo85yPYFEDnDZfhkwrnPU3mfPedRpHdigOHMF33DQG9DswVV/L7Ba4aaPG7A8r7gOyBItvrPeOsLDvmK+3ECoMMVPBZ4cwobwGezwsc4BbHxPgfUSxY0kcI7Spa5p8AIi41+QTwWCj8FPPdvxR6MN7p2fijJQ/4Re5VJg4QQ+OXDf8gp/dW9vsYdwwD6uX92hbJ3ZrfWw7A23PPIAb/5lDQF/V74+DTB/Jv7RvNvezK9obZLvTDBOXgquurAGzrKP2aD5b0dQEUI9MHXAXVIXsZogxyIFQvVhT7GJY35B5DHf4pCCM/KKsYZiA/IzMasBwWKSQYDPuPH2Ygn/tYB9ATVfF3+GoaF/W959oNUuAV5XcMT9QU6YP44Nwp68/nnvXY24XT6Pr63c3cffN/3QXnFOkV5Tb6PdmW6lf8rNr98yz3le778Wz57/vm+VQEFvSCBnkXTuumD0Icpuh/HN8f3PGBFJwpqwDKBbEr0QEE/ps7ZwR49GE5XAWjA38vYvbW/5cqHQSY4v0VmA7j42IY/e6S4kwaFtwl9rEFeNOLBK33xe2iB3bupOfOEtT0DtGpFlYFVN2fCmkBXO0KDTYJtubO/hMUPu31+w8p9P9L5JEgBhjp45UQAwwg5FMubAi92Wo7ugJW1Y8tFBAQ65UQWRZ5CSL5U/lP+tHtNfAI6VPqNvUs3ybpRQLD1LnRl/k54GzTnfRd8nrniPJH+b/35PIh+PUFRQLQADwXARkqDnQY5iBNG4QWCxx+G6UmtyteH0km6SJ2I78j+BZ7FDwhlh/BDJ0gaBM5AlwiXQaS7AMWnwUI7vkNSvsI8wAF4+039vT/r+YX9cH9TOUo70z9DOxl6nfzM/NL7njmjvL4/Q7zE99w8xYIRuVx4D4G9fa23UMAmvfq1rv9FAKA2W31OQs56QftgguM+hrpmhTxB0fvFREFDroHp/xEFLUg8PLjCo0dnfmGGHQYb+1gEswawPPDDt0UbOtpGdcUQNdZEZsQMuRtCSMENvXc5/wGBBIKxYv5hRzD2ej66Ans78bzw/rZB4n48PcQ/gX1OwiLBEb4QBEeAOXzlQc1DSEC9vccDakNBwG/HiUKKeuaGcAHJ/OuH34NW/EIGqAZGfKyD0gXPvLbCYEPWOUi9HoFaOPs4f/0L9102Zjsbtl12vPmW9kH1QjgreSE4bzrOuoA6OT3MPrM8zcAjAm/BpMPRBlkGlEesCWRJbkjMygCMn4unyuSNB04syysJ8QwayndHUseiBn3GmEcAhBXEKAPMweEAygDNwCf+zL33fsA9pHw1Pm88O3wg+6E6jH2oOjn5u76Q+xf4bv0xu7D4tbxK+1R5Mn1jvLv4z7ywPMs6bHsifM676DtRfya8g/qa/jJ9arwjfb++JX8Rfey9jX+c/UnAjwEvfqOBm0O1A0YBUIJUQvNDKMWWAdsDQEZ7AhqEBsMFQdFEAAFWQPCCEYHBQQw9VgHHgUv6+j/bgA/7jH73P/67MrxQvq47XXt8PIT8mH6v/dHA3j+7esiCHwLR/mcBy0ayA0LBMQYwhcHAekP2hauEW0hRBk7DSMcthJx/QgafhuHBZoZFCNJDmMGVwZB5g/S+O+L6+nLgeOh5KTFFMi0vyewTLoZwvbCpcbd0PnYwtPq1m7Z39ta8JL69QCKEVAdsxkVGnUnSCrgLpo6o0GYR95OqErARTNF0EP9QPY6ZDt/QpE9CC30JvweehhrES0HCwktAsQAawON8fDpmOcF54rhDNkG3vnhteH02azau9wg1gLbb99k4BrpE+0a6SzpX+848j7t8e6Y+lUAGQFG/cj+w/8l9nP6v/xG+O7/eAOuAiQA2vlY+NrvHfVNA+X9iQLKBbEFPQUTAUMFGAVLCyUU0Q/pFGsWlAu0DKkIQgkNFAcPzg0nFUAMCQOPAo0FEv/FARoL4wF//moC5/Ve7r31yPDQ8TX5HfCr7D329Owr40To1uwT6HTsmPp89wH3Xvh49AEBmP9jAWUWbA2eDiIbGA6SCYsXQx0TIuEqFTLIMx8d8BT5DZfm9OeO90nsce/F3+/LM8j7uEW5ybfMsF/JnM2cvznIhMlsyW3UHtnK6JH+vATCCBkU3hkQFjwhSTDQNRJIZFMZTZ1LUkphTK5K2ktgVR5R81CWSpE4IjMaKAgaIBkxGPAU2QzoAHH4k+jX31nhsN2e3QfkkOH50xnQdtZr0j/R7Nxt4lXezeWq8N/l2uZ08WLxTP1rB6AG6wzQCscDYgDHAyoOkAz9CyoOmQW0/Xf9nfmL8JjsXu709an+yPny7zrvGumq4oDskPTQ+ygDsP6t91P0O/mO/CH92As4D3gNRBmtFWwImwuPFZ0SRRWZIi0fzRabFZgJRQLzCCEMngkNBkgEC/8L9SXtbOu/6ZrtIfNA6sjmpOdg3fzav9+Y4oDnY+0+7cPn2eqH7d7pC/Xo/xgFbw8FDtQISgoQFkEgKhzXIlIkXRSTDyH9kuf+5aLlS+447dbUdcxXzOzEyMBKvS7EqdMw2ZrVJdWZ2enoz/WM9U0DXBhKIvAjeSVYMnc8qUGiT8BYd11wYSpf9Fp4WSxhn2SsW2Fa71b+RYk7FDZFKAceIR8+FIoDG/0d8DngF9jhz9nNBM4AxqDC0r6PtVS367qEu6/EI8pcyzPNSM+H1TfZ3uTn8KnvG/25Bmf/hwWMCaQJLhGtFSQYWBpzF5wRjxC2DTUNBhO+Ch7/7vqY9cv37v8Q/tH3FfM072nyCvSd9Pf8Hv+h847ygfuGAFgCQwXmCAwFQQhaDZgJ3A7YFX8SbxS/GUMYpxX0E08Tfg20DP4RQAzkBlMDgvzA+LX0gvLA7iDpXOgj4iHggt9V2WjZadWH1UjdpOJC5xHnT+fI5tDjoe4F+s4DQBFnDsgILgxsEkMdUSxsMwUvUij3Gq4R0gsi+U/sNebY5K3uwutE2gbLuL3YuWS6S75Zzg3VjtGczUHJc88f4zv0UgJ8ENATExnXIi0tjzttR6BSnV4YZHNoMmpZZzJq/Wukbf9xtWxFYR5W4UfOOAwwtS7vJzEYqQjl+E7rjt8P1ybRz8o7xW+5e6+wrS6sRbCXspWwira9t8C6WsAavvvGWNLy11Ti/upa8H70Dfe2/jwECAtDEyAQmxAwEz0TyhN8FQobHhiqEgwTWg0SCgUOHA3QCp4J6QqPB6MDoQIh86boeevg73X7xABY+DXwM+mq63XyoPfVBNsJYAiYCaoEggaiEc0W0B18HgYY2hZSFYATpBIUFWIY8xdTETkLFQdt/wH85Pwj/kb9MvdU8NznteEs5L/k/+Ej4mHi4t6D25Dck96o6pn7oAESAMT2d/NXAVkRtRtSHyIbXxZhE6YZRSiKLvswLineFUAMXQGc7xfiDtsa6VLzLuGmzMu05KZDs522PLeVyJ3OA8l1vayvz7xg3a38Ew/eC14HIQyFF6gtRUD0TBZeTmiZaWBo9mX+Z9Fv2XWDdd9wJ2aoXbZQ5DuDMl0sTiUPHyALXvNm5v3bMNSMz6vLMscfvTSxP6byoymtN7NBtni2+q4asMe6o8DxyATTE9qY4hjnrupt8En2qf6tBp0NfxK4FBwWkhOxE7EYmh57JwYrVyMXHLMZnRv6IVkk7CSpILwXSROhEOIOLhHXD3wLVgp0/x313PHf8wb7xvOi6qPrketp8n/1Lu+e8FHyTvWZ9gHyqPhg/kn/WgTU/p/7DABbACgDBgC3+hIA/QLo/7T9mfZw8wz2Yvaq9TLyBvFI8HjvPfFf9Dz1Eva8+VP5K/toABgFEAiTBY0K1RcDHxojIB7eFc8cmicuKagkoSN2KCIuoy5SJN4V5hbKHfMX0Q9PAB7ngdD+usO3Gsye3QbZmbg5kzqGoo9UpJ637cBCxeLBX7bos+PChOEVB94ZjRgPEe0S7SUUO35LiFfPX+xn8Wt3Yr9X1VVFXDJlXGXVWsFKbD1pMVkkbBtiGMEWnBHqBvbyjd6V1r3U8tcF3VvZws4tw965DLg0vzzK3NQJ14LR+8vPynnPXdqv5gXs1vEy90z4W/rH/U4Egwz8FOUauRnYFY4UyxRqGj8j1ydvJ8Ekgh5lFjMVqxhDHa8glh8FF3EMUwgzB0gJzAsZCl0GmP/P+qn0yug14cvkSfHk903vX9yPzQvPzNv85BnoBOtZ6o3j5dty0/rUNueA+hgAbfAp3c7YhOH78QP9avxB+bv0HvHV8C703P+1CLIKoQtQCsULVROeF0MYQhyNIhgrvS+aLKUmhSWzLPU1mzu+OhQ2jDTENQw1+TMhMjYvfCiEIOAbgBi+GAEU3wdM/eT36fbD9cnsj+CW0j++hKwjpBWnlK9Osg+nppdmkGKSkpb8nEeocLWBwgrFlMKhyDDZX+9eAjoM5xJjHj0rCzRlN688HEZOUF1cWWLeXPBXNlXOUBpTvlaKVPxN4UIJN20v2ypyJZYf1RfRDxcJaQHC+Unx0eiT4zvh7d0J3Pza9dVL0X3NystBzovT6ta41dzUm9bx26Tit+dP7Hjv2vTE+5H+gwJsCKUODBMzFQAY/xvVIa0j8yCTHYUcnSDXItgemhk4FH0R8RBiD/QOIw1MBxj/pfZR8tr06fah8xLsueSq4irif91P1FbLLciGz73ZcNvB1+rRT8v3yGDOHtmJ5SXtEuxM5VHffuHb6+b50gIDA+H+qvrb+tICjA76F40dRyCRIGYgrSNAKSYxjDmmP1A/Cj2XPeI+nEHNQQtCukDnPew8vDioMpIvmiy4J30kcxxUEg8MqQhrBycCp/xe+Lzwtuag3/fbQdwY3uvbM9Z5z0nLlslQx4XA87LkoX6V/pT6nz6qHa2gqn+kRKFdoYKhfqjqucPPEuM27A3tMu0u9LwEEhhzKt47yki5ToVQV04qUdNdcmy2dsl3+267YqJd41vbWhJb1FS0SnlCkTj2LIEiWhdYDOADOfxH9Hnr1eIn22vSN8uqxe3ALr+pwAHCS8Prw3PFPsxM0kbXftzx4D/pefXn/rEFUQueDkkTYhjVHKQhICigLD0ryCUwIZ0gBiLeI+sfZxcOEJIJ+AMSAOD5AvPy75TtDukg5CDfktmC1ofV2Nbs1wnX+tQW08jTX9fV2I/W3NTu1FLbsuOT6Nnqw+x27l/vjfG688j5ZAKKCI0KrAqhCzwOtRHcExcXmxpYH6cj/SPTJKcoICzsLtAwdDA9MGgwES8XL0sxojJBM9wwHisFJu8i5B7yG3QYwBWZEzwOwgjP/1r5D/gd9X/wPu3K6Cbk+eGG3gncNNwR3S3bltfC05nQrdGx1KLXJ9vb3dbeK9683QjgfN9P2QjRkMRsu/66m753xKXL0tH11bXX/tI8z8jT/tw27Nf7PAl5F9QgKyelK6MuBjUyP2NJ51CeVVdXBFklWx1a/FecVK5Pc0xsRidAHzrxMi0t3CZjHpkTrwhG/VjzpeyL5o3j1eLf4LnfFtwp2CXVhdN01CnYjt/C5hntR+9z8KHzJ/hl/SYBTgSjCMQPRRUdFwsXcxfKGHUZHhitFQwTcw7jCpQGugJPANf7hfV87nPnquIn4ODcsdm41fjSbNMm1rvX2dcm1pLUFdfl26nhfuYV6rHsVPCm8lLzv/I588P1MPq9APwGZQyiDDkLwghXBogG8AbDCTYOdxGLEu0SzRFTEbwSQRIEEikSzBDTEYcUHRedGzIeRh+aHpUa0BgyGbsbpx4eISYjbyIxImYg3R0KG4oW1RKyD8gNgwxLCxwIeQQ+ART8yvYR8EbqQufF5PXj6eMA4//hwOBE3zzd4Nza3M/d9t+z3yLh++NH5t7pLe6+8Vv1xPZQ9iX2DPbu9e71JvKh6Q/gANWozfvL/85G1/HgU+a25nDkg+BY4ADjH+gp8I73jAB0CnUUmBz3IyQrcy9LMQkyBTQ1OF0/9EdGT6VRf1BKTSZJfUVkQEo6sjVYMm0vByznJXYepBcVEWUMywbT/Zn2KfDN6lDomOfn5s7mBOZI4k/eldva3DLfKuJA5e3muekM7NLu3PEd9V33Mvf79q/0uvON9tP4MPoq+un2G/OG8Vnvmu367ArrcOkg6T7oeud45uTkJuR7467lb+ib6RjsOe4j8Cj0cfgf+/38KP3E+9f7ov2M/2QCoQIfAUkAmP8sAY8CpAS0B7gKLgw6DP0L4QmHCrwNohF+FtAYRBkEG3IbEh2jICsiZCMuJKYiOyCEIFshgyRLKFkp5Sg1JRwgWRtEGZMYkxicFuwRtAzwBtgCWwBt/5z9wPgT8nTsUOjY5IXi3+CU3ybf4d1S273ZKdjh2NfaitwY3hrfB9+g37Xh6OJ35VrmWubD5w3ob+gp6wHt5e5O8D3xM/PB9AL4r/kL+rr4H/YN8jXrjePH3KTYRtdK2jngXenR8jD6C//c/2MBVAR+CLwNhxRIHBclKS+LOB1CWEoeUclVRFcNV5hVtFNDUWVPm04OTppNTEqIRNk8xjL6JmEcHhN/CfsAbvZs6wviVdm209fQv8zByUzIqsUIwxjBQcAjwA7D88VayhTR5tdL3wnlv+nQ7FTwwfRS+AD7TP1V/yYBlgN6BQ8HeQnoCRsHfgND/0r7tPho9tLzGfKe8JfwMfHa7ynwze+c7/Xxd/OQ9Br3hPks/HsBZAezC40POxJuE2QVTRbsFi8XeBYoFjoWsBcZGTkaWRsoG+wbBRy7Gz4ZARR8EC4MmQqSCfwG1QQUAgAAq/9oAD0AJgGS/9L8h/vI+ev4IvmA+vv7f/7P/xIA6P+2/gT+Zf0J/SH9Zf0y/G77SPoC+EX3DfdW9jj3IPe29U30tvBw7iXteuxV7Ejrouo06lnqEOvD7OvuI/AA8Rfw8e5r7wPvF/Dh8LbwQ/Gf8bTzKvWO9xH6Cf0eAD8C5AaTCioOxxFLFeIYBBtNG+gYqxPMC1QE/v1B+WP3Ifj++B/7Cv5t/wgCKAM0AxEEygVyCEUL+g6FEhcXZxz0Ib4nGy2CMU80LDZiNVgyPy1pJ+QjhCDQHTkalRVxEf0L0QYmAR76oPJa66Tigdoq1NjMtMj7xhnHIsn7y+bO9M+/0WvS7dOK16HbKOHU5ufrLPIE+Yv+vAQkCd4LBw+KESoTIRWWFigWPBfNFl8WWRaaFLgUQxNFEDYOlAtvBnIDWwAB/J35jfad9K7zzPNO9Sb33/iG+gH8GvyI/Oz97f6TAAgCTQOqBHUGywbpBVoEAgKmAYAA+v8SAAAASgEoA1QEJQWfBZADoQJoAEb9If0D/dL8ff1H/i/+mP8+AQsErgc2CQAKNwp/CU0ILwgtB6IHsAlcCtYKwwlZCMYHAgdXBgEGFwTQAOH+0Psq+ir6wPgQ+fb3u/RK8kjwP+6H7ZrtE+3D7JfrcutP7Ajuou/58DPznfRR97X5h/sb/ZH+aABFAqkD4QQVByIIAArFC3ALZQw6DCAL8AsWDQ0PlhFoE28UxhUQFiIWvxQJEZQLEAMK+TPuiOQF3eHYQtiS2djbY99I4vHloenh68Hv5PKH9jX5s/zjAZ0ImxDVF6IfnSW8KpAuMC+dLoIsZChgJZ4hkx1qGk0W5xKgDzIL0QYtAt37MPXS7kToQuI93szbmtrp2hbcWOAD5UvpWO658iz3Mftt/18DDwdzCSkNCRHuE8oYSBzeHk8hHiGWHwcexRnlFbsR8AvZB9gCa/3O+fT1E/Ll7lrrSecy5Hjh+97z3dTc8txz3eLeu+FA5ePow+wT8n/1Nvp0/0UCuAUvCM8JgwwYDugOpxAiEXYQcBAfD0ENEA3eC8oKewqECFIHhwVSAiQAov1i+zX52PdJ9tv1OPdd95X4tfmM+jf7dfvp+1L9cv4F/8n/sf/P/4gB7AOxBSgI7AiXCOsHfAZJBf8D5QJwAoEBTwBEAXsBWAJnBNsEqwWUBpkF+gTPBMYCsgGgAeIAmQBjATMCQQOSBLAEAAUwBAICMgE8/6j9L/4W/vL9BP46/bP8g/0u/eT80vxX/Hz8k/sr+3D8BP6IAaAGYgoQDdYOtAyaBoP9+fDL5HrZvc9nyoPI+Mm3z17WI90y5Hbpy+238Rz0DffQ+5MAIgiCEG4YbyJ0K00z6TpEP31AoUB/PZE4FjP2LKAn9SL4HxccVxnMFacQ0guSBIr9w/X67NPlY99Q2v7XWthp2tDeV+Qm6TPubvH386v2UfdG+Nr5yfoj/uMBGga+CtoNlRCtEBoQnQ1VCVwF9QDS/K74u/TE8ezvmu237FXszuud62TpMehn51jlieUF5wDocuv47+b06Pp0ACYGagtvD5cSxRQoFq8WlhZ+FoMVDhXWEx0SKBHJDt4Lowh4Awn9+/Yq8ePt4uwN7anvOfPn9TP4cvmV+BD53/jx+ET7Hf6VAmQHQAxwEEUVdBgWG74dBx6tHsQd1BvvGCEVNRKtEHAQORBqEHMOnwr1BTEA4vo39hvz8/Bz8F/vLu9f76HutvCs8qn04/al9rv0/PLm77LtuO0O7mDwAvPO9Fb2GvdQ9i70RPL+71Luv+177Tnuuu7T7ybyCvT69QL4HPlt+uP7Jftq/Kn+twBLBqIMdBOEG4whECXUJU0gkBYLCc34QOq33i/Y/tep3IfjDOxw8+T3mftk/HD8Zf3O/kUCqQhGESEa5iRfLl02SD3SQPhBCUFxPF02ti8gKKshQhwkGMUUhRKeDrcJigNh+lTw6+UU28fScc08yofL+c5P1JTa/eDz5pjsvvF/9br4pPrM/Lf/2AIbB1IMRhHsFsAa4Bv9GngWiBC3CeoB7/sU96byVPB87jbsqOq46LrlEeJu3rTbMNls2NzZltzU4Wjo9+499rP88AEPB1AKiw1MEeITnBZjGdQbBx7THwshziCDH/ocVRhuEwAP6AnDBNAATP2D+K/0vvH97lbtjOz87c3vDPFw88/1a/hE++H+AwMhBxUMuA8ZFM0WWhdPGOYWbxSLEq0Q8w1UDekKHAhdBj8Cqf4l+w33s/J47/nrzOlX6WrpEOth7CjvP/NO9fz3pPri+hr8Kf56/+4AMwKKA40FrQZYB6IH9gaxBYUERQKA//f8//nY96v2nvUL9ar1dPYJ+Bb5tfno+rL7xvyi/Tz/vwG8BJgJrw2REu0X6xpuHdIeyx6ZHb0c5RqZGD4U5AtPAKLvHd2gzBW/W7e2twG+fslI2APluu4581/0ZPNK8vT1ov31CsYasStiOppEwUpNSzxH8D/NN/gunyYnH/oXWhIjDfcHTAKH+8zzZeqo4C3Wrs38x03EgMY3y0zSWdwE5sfvOvhH/vcCywYGCk0NlhHrFWoajx8+Ii4kiiTcId4e6Bg0EeAIgP+l9nHvV+nF5Mrj7uLu4ofj/+F94CTe8dtS2zTc0d9h59Xwz/q4BXoOBxTKGLQahBueHIwcgh4iIGEhmyODJD8jUyARHOUVbQ5pBhD+0Paq8GfsG+ri57Hn9OfR6Fnqo+vQ7HXtRe7r7lXxxvMN93P60vweAFMDDwdWCowOzBDyEfMSzBDCDQwK9QUFBM4DQQMdBP8DGwJh/7362vTn8MvtsOuS7Gnt8u8c9Jr3cPxSAqYGgQoKDQsOCw5gDRANeA2YDocPOhFlESAQ/w2+CpMFdQHl/f/5zfgB95P2XPY89RH1C/XO9FT12/Vi9kv34/bW9tH3Zvnv+yoA4QRtCWwNMQ++D2cO0guTCugJVgqlCvsKXAqDB4UENwDf/SH9X/1h/yQAMvxi8eTfKco7tt+nMKQdrai/TthJ8eADaQ/4EaELxAUWA9AFTBGhI9M3rkpEV7ZamVYFTGw9Ry6tHnwQ4gWI/If2afJ473vt5+td6Sbkwt111WDOWsqry2fUpOIW9I4GJxVXHsQipCGcHzcdPR0wIQUmsCo7Ltoueit/JRcc0xFxBwP9J/MD6lviidsu1z7V6NTx1pHY1tkO25TaPtpN3A/g5eXr7vb3CAJWCkoPNRJMEckOFQw9CsgI1AjsCLQHywZhBDIBrv1H+fL09fHF7Zfr2+t36hjs3u6G8YX1wPh5+gn9+v8bAogGPwsJEfMXXB0wIcQihyLZHyUdAhrUFrgUnBELDjAJnAM0/ZP2SfEz7kvu9+4x8WTzxvOK9LX0MfZg+Tr9uQEnBw4LPA6CEGsRixKSEzcTIxIuEfMNCAuCBtcBSf/k/Kb71Pkm98Dz/e4Q69znQuey6EHr0+9k89b2i/nV+t37L/6l/3sB9wK1A5kFdAVpBusHIghTCNoIogdvBrgF2gNwAqYB7v/f/bn8EPl29xr33PaL+Sb8Wv4qANb/x/3K+6P5x/i+++7/sAShC5oP4hNNFusVjxWEEagHAfeJ4DnIHLY7rbux98NN3MH0sQVOCdcB2fMt5SbfwOWI91oSAy4aRIVQSFCGR9w5KSrjHUUVaQ+XDX4NOA9MEfIRZBAUC2oC1fVv6JzcJtZ/2CLhwvCUATwO8BQlFLoMCAJI+p/2Afy0B2MUWB99JOojkhyuEZ8FkvoV81LujOx/6+zqzuts6xDrgukw53fl7uIE4TXh7+M/6abyOv3cBZQLbA0fCqsFLQJD/58AkgTVCRkPkBHAEIsN7AhWBV8DCQOeBHwGrgd+CKMIzQe5Bj0FfQLu/4786/gs91T15vSJ+Nj8LAGlBe8FQQPU/s34rvOw8HPwTPMU9wD7Yf8BAR4AsP5n+lz2V/Jw7j/uvPBW9r/8QgTuCQkMcQxoCqgHMQXBAxIF+QhMDO8P2RHkEFsOgwd0AD37SfYb84/z8vSt9wj8VP7iAEwCdQFVALf/TwBFAqUF7gncDioTgxUQFsoTnQ3kBlUAJPom9wD24/bA+Gz5O/lR96DyoO1M6qzofer+7/X2dACKCLYNtRGWEd0PnQ01DcINghBdFFMWdBhnF+gTFBAxCnMEegAk+iL05e5l6hvqB+0g8jr4lfwO/G364PkG+6wBggbdAZHwOtLKs3SgVaC0tWDY7vqXEl0ZKw8D/bXq4eIb6mv9axYoLtE/K0j6R/JBQzlnL04lRBkjDXYCk/vw/KoEAA/PF7UWsgp69vXerczzxcDNLeB3+BgOeBuZHZYWOQvKAO/7f/5TCGgTUR68JawnQSWtHrgUEQky/AnvTeaP4F7g+OW37BPy9vLs79foZOCr2U7YF90v5t/zvwGQDIsSHRK8DYkHxQHz/lABBwalCvoOghACEJwMLQe5Aaz7QvXv8X/wAPG79H34Ufzt/vr/+v+S/1L9ZPxM/cL+IgN8BuMKrA+5EFkRSxADDKgHnAOxAFsAOAEtAoQDVAT9Asn/pvti9qrwBexL6Xnr4fBX91T+JwKbAnQA3vww+iT6jftb/38EEAiDDFUOng7iDq4MEgoNBnUBKf5G/T0AbgXpClQNNAwWCOL/7flU9ZXzpPWP+GT8Hf5//ur84vpz+ub5E/uh/Dn8S/yx+rz5MPr6+tf7xPsR+vr1AvO28EPxKPTx+L3/DAWoBzsIZgjlB3IIwwnwC+IOghDeEIQRmxCjDYILJgZvAZ3+DvwV/eH+1v9oAIb/0PtB+Xf4L/lG/Q4CnQhwECcVSRgSGEEW6xXtF3Ye2SRyIJoGDtsirIWMp4pipe7PyvZcCtEGRPJ/2NHHP8jO2DD1/xJmKkk5pEKfSMJL/kodQuoxuxtdBub5OviVAnsUwiBJIZcSGPYu1zG9/bDftT/If+IA+/0LaBNUEtYKWQMGADz/igNGDMoYGSeeNNk8wDuZMKIaWAIU7kHhjt/K40jrs/Lf8yTxbecl2jXO8sSJwyjJMdVD4/DyFALtDYsXgxp+FtoNkgQtAiQJnhcDKRo2wji4MCUi3hCgAZn24O8U7oTvNPTo+kn/q/9x/UD46PEh7qjqx+pk7nj05/5ICQkRzRajFkwR/gw5B68DuwNnBKAGhgkSCjUIeQT3/GrzrOhE367bPN0x4zbs8vSA+gj84vrW9r318Pe5/J8Fkg4cFsYa8hsWGyca5RW5EJAMAgcDAxIAbf8NAdgCMAS2BIgBJPrS83zu/+uH7dXwmPWA+s393P9FAooDfwSTBVYFXAVDBUgEEAMzAvr/tv5y/kb9qP1H/mv9ZPyM+hr3MPUw9cX3Ff3MAjkHDAoGCpEIWQiuB9QInwrwC0AMvwuZCskJsAlrByUFwAJh/2T8Nfln9YT0xvOv9FD2vfWC9/D8+gSzC5oP/gy7COQGvws4GQ8kgx8cAzPWGKmRkIWVJLMh29/4ugKy+6XsFtw51v3bWep//poPWB+CLMI42UUdUDhSUEhrMk4XlQKx+usCaxa1KToyzyqsFK74ieDM0SjOL9M63B/or/QmAV0LaxEXEkULWALz+fb3l/4hDMse4C5GNx81GiiaFDMCG/PY6QXnc+fe6cLrx+om6X3l4t4H2rbTa82Hy8LOedix5yL5zggQEqQSzAtYAsr72PwTBtYTBiIRKk4qpyNNGzsSGQpfAwz7kvW38VXxjPUr+1X/gACi/W/3bvHt62brfu+q9X39nAMnB+4J3guoDM4NyA1GDGgKYAi5BmQHfQdzBHT/8PeZ8cvtcuvC69zsyezL7Xjvk/GZ9q38FALkBngI8wifCkwMTBGDFdoWUxbbEoYOFAsqCfwGVAQGAAj8Pftf/ZL/dgI2BJoBZ/9S/Vz7w/oA+8b8w//LAVMDsASQA6kD9ASkBLYEGwJZ/d/4mPVU9fX2d/ii+IL3d/Ok8DTvre7+70Px9/MA9pH5Qf7fAmsHmAlXCy4MCAtMDBEOBw9kEKEQlRAwDsoKIAbYAjIBDAC9/1L9yfpB+b/3y/fx+Aj8BwF5BH4IWg3QE00bRR6RErPybcqhq8qliLk520D4kwWKAyf44+1J59XnXu6N9lr+/wOqCXYVmCaoN0FBLTs6KSIR7P1o9j37iQc4FAYdHx3JF54OtQOM+lfybOsq57fnb+379gsEjA5bE8AQIgjc/yr6kfnz/mEJLBSTHfkgpx7qGfIR7wrAAmH6DfIe7ArrH+3q8vb3QPhX8rLoDd/c2QjbTeHG6eHwfPdf/VcBWgT0BNcBi/5W+9D7SQA3BbkLcRGDFVUYnhfzEnwLhQSUAS4DCAcFCZEI5gOe/9P92Pxk/Lz5K/Yk8XDuQO/K8Uv3VP70BDwJKAinArj7afda+Yz/5AaOCzQMNgkxBY8CDADY/PD3JvKi7+XunvAL9bX5wv77AG8BGP8f+2n3OPcB/GMBAgcyC4kMogyiDO4JWAd+A+H+EP5h/5ADfQcfCpkKKgmOBv8D8AEK/nv7W/pt+m77Ff1g/oz/jABoAMoAjAA1/t37sfqA+q38zv49ANEBLAFV/yP+mfuV+EP2F/X29zr9jgHhBMQFFgOJAgkDbQT2Br8GGwdsCNYKow2mD00NLAa8/mz5i/kW/rQCiAauBywGrQYYBRsCYgB6AGEE7wpqEIsNUv3m4UHJV764wpnQq95h573sHfBl9Jj63/0q/wv/kv/2ATIG/w3fGtsqfDZbOe8wOyAzEGkG+gSkCcgN4g4cDTsIqQNdAYX+F/p+9KPr5OTF5Njp2vSlACEHuwiYBBv9bPlC+mb+qwVRC1YPkRLOEm4TsBLcDu4J5gPG/Pb35vTd8qjzifNf9Ef0lPIP71HppeNX39/g0uQ76wfyY/dF/G3/MQA3AFABOQIBBt0KpQ5TER0SbBKVFcUZQx2lHegYpxDJCXUGcwRPBTwE7v/o+qX22fMB8gvw3e0S7NLpferp7SL0pvvjAeEEDAVlA4kChQRoBSgIKwqYCTwJ5gj0CbQMBQ4PDAQIWwBy+Sv2PfaE+SH9+P2I/J357/bF97r4BPnN+J/2+vVe+K38ywEyBtoICgi/Br4FTwUmBqAGRgdHCFMIGwfLBkkFZwRBA+7/m/wt+C70RvPm9EX3gPoT+zD64PlS+Cf4fvn0+gP9Hv/iAIEBewGMAIz/Qf4O/BT8KP3t/g4CqwWuB3gIoAa1A84DowM9BfEHowhtCREJ8Aa4BREE8QIJAz4Bf/4m/ED91v9tBFIHxQZeB9oIww6fE3UPKv+o5YzPt8ZaymLVuuAG6O3r+O+h8wD28fgv+UH5UPsp/osEsxA6Hy0tjTWuMoopdB2aFDUSSBI0EasOmwsGCrQMSQ7rDCYGW/p87vjlJuRz53XtgvKH9vj4yPk2+ub5C/q9+sb8jP/0BD8L/A/LFHYVbhNMEbYNUAr8Bv0CJADt/mX9XfxS+L/y5e6F6/7q2eoJ6pPovedW6BXqde0W75bvEfAS8Sv2yvs4AeIFlAaDB6MImQrDDj0TUxYkGL8ZxRneGY4ZKRdjFLEO8Qf3AnH9gPpt+sL5UvgK9JTtiOkC6Sjq8e448hXzHfVp9638XgI+BpUH5AZzBFgCowMCBzkLNg4FDo4LBAiKA9YAHv9a/n/+W/+2/iH9UPte+Cn5mPoT+0L6Avh69hT3wPis++3+VwGFBIkHZwkRCSgIMwe1CDILBQ5ED1oN2wneBvUFkANTA5QBzv5S/ZL6Ivmt9wf3OPcP+Jn2ePQz8/Dyh/YL+j/8Rv0x+0/6Jfvp+wr+Q/+S/4EBTgQbB70JhwrECgAK5gjGB78G6QWrBbkGAgeoByYGoQLI/vT6cfj897H6XfyW/eX9D/13/SP++v92AqkDxAXbCQ0PYRO5EEwCYexU2O/LPMpyzkfTbNgm31boV/Ii+RP7Y/fc8bruqe9O9VX/yw8cIIgs/jK6Mskv4istKFYijxo7EukPgRSQGxki2iDRGeMPMARi+8bz9Oxq6e7n8OmK78/1Hvoa/FL9ZPxW+/X79/yl/34DXQbsCN0KawwrD+QQSg+NCuUC1/sv+Rr3Bvaj9Ibxx+/l7ifuMu3b6w3oheac5SflT+fM6Sfu9vKz98n65f1VAEgE+gkjDTgPJhA0EasTEhjIG1QcFhsLF+0SdhAFDl8MCwk2BE8AcPzR9/L0OPJ/8OfwI/DM7pHr++g16+DvWfSI99H3yvaP+C79IgMiCAAKpAnVCYcKwwlhCTAJHAgoCDMHJQXsAxwDrgJYApMA3vww+r/3Q/Zi9tX1uPaE+d78ygCmASoANwBXASkE6wcZCpIJ2gg9CuQLHA1fDHkJ0QbaA1UAWf3P+rT4fvnt+Tz6Tfkr9oz1jfZM+Nr5ffgL9Xj0//SH9lP5+fl4+Vr5PfvC/kUCQgSYBEQGogdICcULAwwmC1wKPQp0CiALMQqjCI4GzgMjBPID9wInAkMAW/+fAJoBUgIIAp8AoQJNCIkMAApDAHjvIuFw27Tbyt5d3zngG+U47Wn3DADBA1kDsgHuAEP/L/5P/3gDewoIEBkU5RW4FOgThhMzEKELqwWgARwD0AUECJQGFwQiA08FigidCOsHFwQ3AJMAcAKFBG4FBgX6BI4G4AhqC20Ohw9VDrMLegWM/4r9iPwd/nj+avzz+Yj3b/fW9jD1T/EC7j3skes+7XzuNO/b8Ir0rfce+ub5rfe+9mz0lvQa9yH4zvn7+6j9qwBTA5gEPAS2BHUGWwk0DOsMaQ9WD1APCBAADwUOpwvbCTsITgQq/+763/hr+NT5uPtQ+zf7Jfsm/Ef+bP6j/vj9IPyL+f74r/l2/Lf/VQBMAtcBegBbABIAKf5k/IH7Pfsb/ST/EgAY///+kwDaA5IE3wK9AMf9TP3t/lcBzAJBA5UCKAPPBOcEIAbKBSECCAJ7AeL/JABEAQkD3QEZAUn/Cf25/Iv+If34+CL5ZPjr+Lf6+/tr/ef+pgHHA/ID3QHa/rj7l/mo+Cf4y/cz+DD6ufzh/rEAUgL0BF0GYwYsBh4F7wU9CsgNew9wEPkNTAxaDSsPMxCSDsgI3P/l88rocOQL4l/hXd9p30zlu+p68fH41P4sAT0FVgqqCX0HOwgrCmUM1A1WD/4RhRK9Ey4WfBVxEdMMHAjbBJsCyP5E+zr4Xff0+mX9sP5bAHoAbgBJ/wT+/fy5/JD9egBqAswCBwb/CH0MvQ7gDQgLzQf1BaQEVAR9AoYAdP8Q/ln9rfxn+oP4Rffs9CHzYvG28MLw5u/476rwpPC38WX0jPXa9Mf0QvVX9/P5pPri+sj5ePnu+hv9R/6L/hD+jvx//uMBtgRCBEcDqgS+BeQGKAjPCTEKLAtrDKUK8AYGBXkErwOKA/gDJQUlBY0Fuge7CJUHfAbpBTAEwAK3AEP/T/+G/zgB7gCAAIwAPgEfAZ7/C/+n/D/8If2Q/WD+YP7C/jEAYwHdAV4CsQBb//r/9P89AD0AJADdAawBiAHqAW4AsQDiAB4Af/6//NX6hvpW+2j7gfvK+8r7v/z4/Sj9QP3y/Rj/HgCr/9P9P/x7+xP76Prz+Q/4jvfx+Oj69/xX/Fb74/sP/c//gwL3ApsC/QJYAjgBygCTAJYD0Qa1CMoKUQsbDBAN2AsgBjT9//SW71vsmOe05XzpRO2a8rT4p/zJ/ygD1wbhCQAKmAn9C6gMUgxVDrcOCg26DKkNWw7CDboMwQx3DDcKZghLBk0DTQPPBKMDYgAQ/kz9QP3+/c7+Cv7S/Cj9Kv89APUA/QLSAhADDAVRBkkF5gMFBIkCNwAP/SX7c/rO+f/5fvkz+Nj32fgW+ev4g/gt+An4dveJ+Av6zvlh+sT7bvsT+wv6s/eS9UPxZO7N79XwVPAM8WH1YfqS/zQD5gO4BZwH4wrwC+4JfwmeCb4KfAuTCugJsgrECpMKIAv/CNYF6QXEBecE/wMbAogBDgIcA6MDHAO0Av0CeAOpA3IDKANfA00DQQPBA5IE6QV8BnwGpASsAVX/v/xW++b5IfiH9or0LfM/8/byevHn8BLxBvHE8VfyAvPa9ND2Wvk3+4j8Tv6l/0//sP6K/cb8S/ym+6z7svt3/R3+bgAQA9UE1wb7BZMFPgb6BE4E7AMUAj8ClAGGABIAmQCPAjAEVwaXCPIMSxAbER0SaAohAmD+HPki9Dnu1+1H7z3xhPRr+Az7Jfs4AZMFgAUeBeEEMgbKBQIHcwmeCfMI4QlmDaIM9gudDSMNVQ7oDgcPkg60DDoMCQx/CZMFfwS1A+gABgA1/p/7sfqG+pn7bfpN+WH6jfvk/Gb+VP5F/Nf7Pfvb+pj6ePmA+uP7Dvwb/R3+5Pz9/Cj9rPtB+Zr3hfWh82/yVfHw8jjyjvLA8+TySvK58qn0+/Yv+UL69Pqb/Pj9kv+d/lb7gvyj/rcAGQF2ArMG+wqGDoYOKw+xDjgP9xB6DjkLlwj8Bo8HOQeNBXkE0gI/ApADQgT3AqABJgEtAmUD4wFpAfYBjwIjBH4DewEBAbEA4v+M/9P9gvxZ/a79PP+lAGIAjgGVAtgCtAITAdr+rv3k/Pv7dftT+VL4wPgL+nP6hvqm+wH8R/4Y/08AbwHc/0MAq//N/ff8ZPwy/Gr8/fyI/Pf8A/2O/BX9GvzD+p76SvvM/Eb99ftQ+4b6jPpb+rf62/pE+yP+SQA/AuUCEwEV/eb5QPh29/3zyPCC8hH1U/nE+yH9Hv/jAbYE0AV0BTcF5giyChQLCg34DEULggvwC/IM/w1PDoEP8hEhFakWcxd4FkEWBRfSFcMT+BF7DxgOIQwwCX4IgAXOAy4DEwFn/5b9Afzu+mL7gPr5+WT4GPbc9kX3n/YG9nn1zvTa9Bz0P/Mb86jzlfN383Dz9fGm8svy5PL28lXxBvHK8Qfy6vLf89nzePQ39vH46Pos/Hf9C/+MAN0BEAM2BE4EFwTyA1oETwVJBSID1gCuAuwD2wT/AxEE0QYYBRIFMQWQA4sEXAUXBOYDQgRUBLgFHgXbBDcFIwRlAwAFYgUrBbwEeQSrBfQE/wNyA64CywGnAvECXQGZAKsAsQDiAD0A7f5m/uz9tP2D/Xb8bvsT++35x/iP+K33dPZu9p/2p/dk+KL4HvpC+qP5kfnA+Dv52vnC+ar6hvo//Jf+hv/u/9wAJgEZAQcB+f5y/t/92v7u/57/hv/o/5kAvQAiA4QDowMSBdEGhgnVCdkH5wRBA8sBnwD0+ij0zvT09bL2Afef9n/1iPez/CQAsQB0//ECDweGCbIKIw3gDSsPLBS/FCQTDxGQEfkS/xLVEkgSqBE0EbwSYBKIEGEOtAxFC38JlQfhBHgDoAE/AnUBKv8p/lH8Rfwm/M/6Kflx+K33Ifg1+V74k/YM9h/2SfZ59Rz02fP28g7zUfIe8ZDv6+7e7pTtFO6H7WPt8e7r7mruA++V7pDvpPAS8dnzjPUh+Fz7L/4AAJ8AJwJZA3ACjgFwAhgFugdcCokMKg6tEOkP/A/WDrwNZQxdC0ULnQiwCSsK4Qm9CXIItAfFBkkF9QVLBhoG5Ab8BrQHZAdMB40FBgW1A1ICOQJh///+BP7M/EX84/sl+3n6kvrV+gj8gvy//DL8+/um+w78APuX+XL52fip+ZL6APvX+0v8rfzH/Yb/DADi/yQA1P5t/3/+kP3B/ZP7N/sT+x/7w/ow+sL5C/ro+uL6CPy//F/90/0E/i/+jP+lAE8AAQEIAqUAZv6C/Bf6PPrU+fD32fiR+eD5+vpt+mH6Jftw/AT+Z/+x/xsCtgQyBowJGQqlCjILmQqIC/YLDwyLDXMOUA8DEd4QKBGWEVQSbBIoEd4QURCbEPUPkw9iD5ENOgyNCn4IOQcYBTQD6gFPADEA9P8d/hr83ft1+7H6jPrx+GP3MvfV9dv12vSb8530IvSW9GX0HPSJ8/zy8PKO8sXyvvH58CTxjfG38cvyXvOb8xH1N/Y491f3Yvbc9s348/kh/bf/6ADBA0kFOQdkB0YHugf8Bi8IjwcCB8AH6weXCEcI5ggqCUcInAcnB+QGjQWABVQE2gNtBBADpwKhAqEC3wJNA4MCUgJXAWIAnwBh/zz/kf4p/rb+5/7H/SH9cf37+8T71fr++Ez4WPgP+Ez4hPkK+a/5PPrO+U/6+fk7+YT5Ivk6+Eb4Xvhs+Tf7P/xk/C79YP42/3T/GP8k/2f/yf+9/4AAlAF1AScCagKhAnkEEQROBIcFdAWxBRgFDAUYBR0EFgOuAjMCXgLOA1kDWQPaA4QD2gNyA2UDRwPxAj8CUgKDAmkBagKEA5wDwQPgA2EE7AOFBMkEDAVuBSsFaQYmBogGvwYtB0EIEAhsCOYI1AiVB5wHQAd0BQwFTgQcA34D/QI/AicCxAABAasApf9a/kb9ov1f/Wv9v/zw/GT8UPtK+3P6d/g6+Pb3pfat99b2UPbW9m72Aff89xT3Q/Y99jD12/WY9QX1sPVC9Rf1sPVr+Mj5Qvpo++r8Zv62/qv/DABuACcCQQMhAl4CTAJYAigDrgJFAsUBlAGsARwDtgRoBeQGGwd9B+wIHAiDBw0G2wTnBGcE1AOpAxcEqgRJBbwEYQRfA98CZALcAHQA7v+A/5L/Yf+p/iP+Lv1q/Gr87/ti+/P5Efp5+ir6GfsM+5n70Pti+5n7JvxF/Aj86fsr+3v7rPtW+1D7Jfsm/PL92v6M/4AAoAFkAsACxwPHA2cEfwQdBOYD0gKcA9gCgwK6AhQCdQF6AIAAjABKAUQB4gC/AcUB6gHlAi0CxgIoA30CPwJdAcoASQAYAHr/jP/h/pf+PP+x/wAAqwAZARMBfQKJAoMC9gFEAaYBbwFKAQICagINAaEC6wJSAngDgwJZAyMEHAObAngDcgNlA68DAwN+A3YCxQE/AsUBrAGaAcsBSgEZAZkAkv+Y/zz/Ev8w/2z+ff01/oP91/s//CX7E/uH+xP7n/sF+sj59Pqm+zf7Jft2/B/7h/u5/GX9Wv4K/pH+Sf9H/gr+dP9V/x7/vf9bAD0A1gBEAb8B5QLGApYDqQNNA7sDTgQLBKkD7AMJA/8DHQTyAxEEwALYAn0C1wG5AW8BhgBuABkB4gBV/4D/tv60/VT+cPwU/L77Yvus+4f7pvvj+yb8rPsA+wb7nvru+tX6mPp1+7H66fv1+wH86vw5/Ff8Ff1r/Vn9Tv5m/gv/9P90AOIAoAHwAaABFgN2ApoBOQIbAhsC6wLxAl4C3wK0AgkD9wJwAlgCMwJSAv0C0gLqAWQCjgEHAaABBwFKAeIA9P8xALf/q/88/zz/wv7a/lX/hf5h/0n/2v56/2gAdADKAAEBygD8AbIBRAEhAuMBEwFKAT4BewEOAmoCUwOpA+YDcwTJBIUEHQTgA2sD1APmAykEiwTyAzwEfgNlAxwDOQLjAVcBewGGAD4B+wBh/7f/PP9//kH+X/1X/Jv8vvus+z/8Bvu9+oz6qvqB+437rPvK+6T6kvpi+9D76PrP+sr7bvsa/NL8Ff2K/QT+Hf68/sP/z/8AAPT/9P+OAWMBmgEtAnoALAFEARkBYwEBAQcBMgE+AdAA0QHdAZQBUAGUASYBnwDiAEMABwHW/4b/+v/a/uj/KgBJ/3r/q/9b/+L/t//a/kn/Hv8F/5L/Hv8w/wwAAAAYAKUAjP+3/wwAw/9oALEAHwFVAAAA7v8MADEAq/+9ANwAPQCTAE8AgABjASYBYwECAtwAAQFKAaUAXQGsAbIBiAEBAXoAPQCfAIwAGQEsAYwA9QBQAW8BaQEyAaABAgKOAY4BaQEyAWIA4v8AANb/9P8q/4z/9P+G/+7/4v+r/1v/bP41/jD/hf7I/s//mP9VALcAbf/6/+gAkv83AOL/Q/+A/1X/1v+l/0n/nv9DABgAev90/yT/sP4L/1X/PP90/6v/7f5J/9T+T/+A//L9Nv/O/gv/sf/n/pL/BgD0/zEAPQAk/yr/1v/P/4D/3P+x/4b/VQBPACQAvf8eAFUADABt/yQAbgBJADIBkwClAKwBGQHuAFABaACZAFUA1v9DAIwApf9PAPUASQCAAAAAWwDD/4b/gP+9/x4A9P8NAR4AQ/+Y/2f/Bf8L/2H/zv5h/wYAkwC9AE//Z//c/73/6P/W/yT/BgAAAL3/+v/5/rf/Vf8L/zz/Yf9h/2f/mP/t/jz/Wv5B/tT+//4k/zb/AACY//T/+v8Y/4b/vf/i/5MAVQDEAAcBMgE4AQ0B1wH8ASECIQKPAuMBTAKbAo4BCAIzAnUBYwH2AdcB0QFQAZkAAQFQAYwAdADc/8//PQC3/0kAEgAxAL3/mP9h/7D+1P7f/XL+bP5H/i/+wf0W/lT+Cv7G/GX9QP1k/HH9Ov1f/Zf+Fv6p/gX/Bf8GAIb/gP/i/1v/kv+lAJMAKgBPALEApQAyAYEBywH8AZQBTAKVAqEC3wLlAhQCugLSAl4CCQNSAswCNAMCAtEBpwKPAi0CzAL2AZQBxQHuAEoBdADW/4AAvf9t/3r/o/6p/uf++f6M/0P/bP4j/rb+eP6F/vP+ov1y/vP+L/5y/jv+8v1B/mD+lv3I/sj+VP75/pH+wv5//pb95f2x/8//Vf+S/0n/W//0/zD/T/9J/9r+7v+G/1v/sf82/3/+Hv+Y/4b/Z//I/mb+Vf8Y///+t//n/u7/vf9V/7H/Z/8e/2H/1v8eAJkAT//D/9AAEwFpAVcBsgGsASECUgIUAjMC2AL9AuUCPwLAAqEC8AHfAtcBFALGAhsC3QEzArkBSgH8ATIBjgE5AhkBGQHQAMQAgQG3AKUAegCMAIwAEgBh/xL/Hv9H/sj+7f6w/iP+Nf4Q/pb9zf1A/X392f0p/kH+nf6R/lT+4f7C/tr+eP7C/m3/4f6A/xIA7v/W/7H/vf9JAAYAkv9JAPr/YgCZAEkAWwBuAFUAt/9iADcANwCZAJkAUAENAfr/1v+GAEMAbgDW/1X/9P9J/4D/WwBJ//n+pf/h/v/+Bf8L/xgA4v/z/nT/Hv+L/lv/vP7h/pj/yP68/hL/l/7t/sL+bP5V/8//Vf/P/2IAGAABARMBMgGUAW8BxQHqAW8BbwEUAr0ABwGyAYwApQDKAGgA4gD7ABgAUAGZAOL/AQFDAAYAMQBDAD0AJAD0/4z/sf9b/+3+bf///ir/GAB6//T/pf9y/gAAMQBb/x7/Vf+G/wYAKgDP/70AnwCGAEQBnwC3AD4BOAHRARkBsQBiAIAAtwBEAcUBEwGmAZQBywFYApoBSgECAssBoAG/AYAA4gCAAID/MQD6/+L/EgDJ/xj/EgAeACoAKgAq/3QA1v/n/iT/i/5//jD/cv5a/h3+rv0d/gT+NP2Q/eX9A/0d/gr+Tv54/mX9Uv1Z/fD8NP3k/OT8Kf4Q/i/+4f62/qP++v/u/+j/egAxAHQAxAClALcAMQBt/xIAWwClAG8BCAJSAo8CjwICAnACagLwAVICAgJvATMCOQJXAawBVwFpAfABpQBbANwAhgCxAE8AJACrAJ8ATwAYAGgAaACZAGIATwBPAD0AEgDD/+j/bf9J/4v+W/8GAAAAAAB6/wAAw/96AEMAw/9PANz/4v8xAG4AgACAAPr/yf8MACr/sP7h/tr+sf/u//P+vP5y/vL9Nf4K/v798v3Z/Tv+YP7O/pH+bf8w/9r+1v+e/x4AVQAkAEMAYgDJ/yoAHgASAD4BTwB6AHsBTwBVAG8BRAGmAQICPwJqAvYBrAHqAbIB+wBjARMBbwH2AYwA3ABpAe4A9QCMAKUAqwAmAR8BKgB6AGIAvQBoAKv/yf+x/+f+Tv7//k7+bP6L/sj+JP9y/hL/Sf/a/k7+GP+2/gT+tv6d/k7+zv7a/uH+Ev9s/s7+sP42/zcAQwAxAA0BGQHEAAcB4gC9AGMBjgHwAScCGQHXAdAAygAtArkBjgHXAYgBPgHwAQcBYwGgAaUAdAC3/8n/nv/o/wwAQwDD/yT/bf9//sL+Yf+p/mb+MP82//n+Nv81/sH9kf7f/ZD9/v3N/Wz+Tv7f/Tb/8/5g/hj/cv7U/ir/Bf96/7f/PP9J/zb/Tv4Y/zz/dP/c/7f/kv8L/xL/MP96APT/hv+3AGgAEwGOAfsAbwHFAQEB9QBKAWgA1gAsAZMAJgG9AG4AygCAAHoA+wCZAD4BywG5AYgBJgGOAfUAjgHFAdEBjgEZAUoBnwBoANAA+wBDAOgADABt/5kAJAC3/9z/W/88/xgANv9t/9z/t/9DABIAEgBJACQAAACZAJMAjADWABgAEgA9ANb/SQAAAEMAkwCx/0P/Q/+G/+3+sf/J/xL/q//D/yQAKgAGALH/z/82/9T+vf96/4b/dP8k/6X/nv9V/8//bf82/2H/PP/0/1UAq/+M/xIAHgC9/+j/Vf/U/h7/+f5b/2f/dP+S/zEAW/+M/zEAGP8xABgADAAHAaUAWwB0AFUAnwDoAMP/JAAGAKX/4v+Y/+7/+v8GAAwA+v+A/0P/GP88/yr/1v+x/0n/6P+A/0n/sf9P/x7/t/8w/3T/jP9P/57/9P/D/4YAVQCx/2gAhv8qAGgAQwCGAG4AYgB0AEMAVQClAE8ABwGTAIYAdAAkAB4A0AAmAb0A1gATAbkBoAHRAaYBJgHXAY4B6ACaAQEBpgGIAUQBIQIsAZkAVQBoACQAGAB0AAAAAADi/3r/yf/0/3r/Nv+A/7D+MP9t/xL/pf8e/0P/Hv+d/pf+C/+R/tT+ev8w/+L/z/9D//P+//4q/6v/kv9t/6X/8/6d/gv/Kv+j/vP+1P7I/rH/w/+3/2f/nv+r/5j/Sf9D/x4At//J/1v/5/5J//n+Yf88/9T+t/8YAM//7v/iAMoAhgDiAD0AQwDKAJkAegDQAOgAHwHFAdcBHwEIApoBgQEbAkQBsgHqAeUC0gI/AggCFALRASwBywEsAV0BVwGxAKUATwBVAD0AkwC3AJMANwCY//T/jABJ/yr/GABt/8P/MP9m/rz+1P4S/23/wv54/uH+BP4v/ov+Wv7h/mz+0/1a/kH+qP3f/SP+BP75/tT+Wv4k///+Z/96/57/GABbAEMAvf89AMn/bgBVANb/SgEHAb0AnwCAAJkA9QB0ACQAvQBVACQAHgDc/0MA+v9t/0MAw//P/08AdP/W/zcAw/9h/0n/dP+9/3oAsf90/7H/Yf8YAAAAz/8AAHQAKgD6/6X/PP89APT/hv+xAIwAhgC3AAYAWwBuAL0AxABbAHQAegAqADcAPQDc/zEAbgA9AJMAegA9AE8AJAAMACoA1gDoAIAA6AB0AIYAmQAGAGIAaAA3AEkADADW/z0AVQAqAFsAhgAqAPUAqwCAAHUBegDWANYAhgC3AHoAmQDcACYB7gCAAJ8AbgBPAKUAAADW/z0AMQCr/7H/5/6M/0n/nf6r/8L+Z/96/4D/6P/o/+j/Sf+M/6X/4v+r/8L+1P6M/23/bf+Y/wv/q/9P/yr/4v/t/uf+T/9P/3T/6P+3/4D/hv+8/qP+8/5B/vn+Vf+2/m3/l/4v/hL/sP4S/1X/o/5h/8n/hv+A/7H/Yf+Y/xIA6P+fADEAHgCrAMoAgADcACwB+wB1AUQBHwFvAXUB7gBpAWkBEwE4ARkBaQEyAbEAVwENAYYA3ADWAMoAgAAkANYA4gDW/1UAjABPADcAVQA9AB4AWwCx/zcAegAGADEAHgBiAKsAVQBDALcAnwCfACoAw/+TAJMA6P/J/9b/q//6/8//hv+S/0n/yf/0/+j/mP+Y/4z/kv8AANb/yf8e/wX/+f6F/nL+Tv75/qn+wv4S/0H+//6F/pH+Vf/z/jD/Vf+r/yoAHgCM/8//dADu/wAAsQCl/7f/DADD/wwAmP9DAPsAgABVAB4AYgBDAEkAsQBV/yQADACx/wwASf/J/9z/4v8AAHQAhv/i/7EAJACAAIwANwDJ/7f/dP+Y/x7/Q//0/zD/PP8GAOj/nv9oAMn/AAB6ALH/NwCZAKX/DABiAHT/gAAkAEMA4gBiACoAEgAkAE8AAQENASwBbwFvAcUBuQEsAdcBMgGrAB8BdQGBAfsAvwEmAcsBxQGMAPUANwAxAD4B4gC9ACwBpQBVAHQApQAkACQA9P/u/zcAhv/6/1X/yP7o/2f/Yf9h/7D+GP8Y/53+VP7I/n/+nf4S/53+nf5m/lT+VP4S/zz/sf8GAHT/6P9J/0P/4v+A/57/aAAMAE//hv/W/4b/1v/J/0n/z/90/4D/q/+A/1X/jP9n/7f/kv8F/7f/Sf8S/6X/Nv8e/0n/Ev/c/6v/MP+G//r/yf/J/+j/mP8MAMn/4v+rAIwAMQBuAGgAWwDcAGgAMQCTAMQA1gDcANwAVwGUAbcAJgFpAbEA9QD1AG4A3ACAAJkAdQGrAOgAJgGfAB8BMgHEAAcBJgGGAIYApQDWAD4BDQHKAG4AegCrAG4AHgDJ/6X/q/+x/6v/Sf9b/wYAhv9h/4D/qf7h/mH/C/8q/0n/hf7t/jb/C/+Y/1X/7f4w/xj/Nv9n/xL/nv/6/1v/dP/0/70A7gDcAL0AkwBVAIYA7gB6AMoAJgGIAdAAkwB0AO7/dAD6/58AVQC9/zEAPP/t/hj/Q/9b/0P/o/5y/qP+f/4S//n+GP/t/vn+w/+Y/6X/nv/i/8n/+v/P/yoAMQCM/3QABgDu/5MAnwAxAJMAdABbAOgAKgD7APsA7gA4AXQAbgBiALEAqwAHAbcAEgAkANz/T/+S//T/q//u/9b/jP/u/7H/gP8eAL3/HgBuAOj/mQClAAYAGABbACQA9P8qAFsAbgAxAAYAhgA3AO7/VQASAEMASQAGAEMAMQDJ/wAAEgC9/yoAHgDJ/wYAmP8q/7H/6P/D/wwAmP9J/8P/mP/o/yQA3P+9/zb/T//W/6v/w/8YANz/mP+A/yr/GP9h/1X/bf/D/3r/T/+S/wX/GP9t/+f+MP90/3T/dP/z/u3+Z/+Y/3r/t/9b/23/TwAMAOL/PQAYAGIAmQCMAMQApQCrACYBHwG3AEoBUAFEAawBSgF7AcUBBwEmAZQB9QBvAV0B+wCyAWkB6AANAeIApQDQAFsAegDcAG4AWwBiAOL/3P9uAAYA6P8xANz/DADc/6v/QwAAAKv/yf+r/8//EgDc/7H/QwAxAMn/DADD/8P/BgCx/9z/7v+S/4D/bf8Y/2H/kv8S/0//Sf8q/4D/JP/5/jD/Q/8k/xj/7f7U/mf/Nv8w/7H/PP///ir/7f7n/mf/Z/+9/z0AMQAqAM//gP+e/2H/Vf/0/+L/+v90ALH/GABbAJj/w//u/73/yf83AAAAMQBVAB4ApQClACQAsQDKALcAGQEfAb0AhgBoAB4AnwCGAOIAAQFiAJkAVQDW/9b/gP9t/wYAyf90/4z/W/9J/57/Z/9V//r/Q/9h/9z/Vf/c/wAAjP9iAIYABgCxAHoAw/8AAOj/mP8kABIAKgCGAPT/1v89AAwAyf89ABgA9P9bAG4AygD1ADcAtwAmAZkAXQHcALcASgHWAAcBMgGZAKUAHwFoAG4AMQCS/2IAYgD6/2IAHgAAADcAt/8SADcAnv+M/+7/HgAGAAAAJP+Y/9z/kv9iABgAz/9DAMP/w/8qADD/dP8kAEn/gP90/8L+hv///mz+o/6j/sL+hf42/0n/Ev+A/x7/GP9D/xL/gP90//P+W/+Y/0//gP9h/wv/AAC9/zD/TwAAAPT/7gCTAPsARAFbANwA7gAAAHQAgAAYAMQAsQA9AOIAtwCZAOIATwBuABMBxACfANYAKgCZAJ8AbgDKAFUApQBPAPr/+v8AAAYAev8AAAYA7v8AANb/4v90/+7/TwBoADcA6P96AEMATwBJAM//MQAqAD0AegDEAB4AEgBiAD0A+wAGABgA3P9J/23/dP+l/x7/vf9D/xj/Vf96/6v/sf9b/zD/bf8L/9b/Vf8k/0//T//J/5j/Vf9J/0P/5/5n/+L/DACr/8//KgA3AAwAz/8eAJj/z/83ABIA7v8xAJ8Az/8YACQAw/89AGIAegB0AEMAKgCfAHQAaABiAPr/QwCAAJkAqwA+ASwB0AATATEAkwDcADEAHwFPAGgAAQEMAAYAmQCAAID/w//0/6X/MQCS/zb/4v8k/+7/7v+M/+j/w//J/7f/MQCe/wwAkv9J/+L/mP/P/8P/z//P/xIAq/8YAHQAt//6/4wAqwBJAMoAegAeAFsAhgDEAGIATwBVACQAHgCfAIwAxACGABgADAAMAMn/sf/u/8n/AAAGAOL/VQAqALH/hgAqAMn/3P/o/9b/9P8xAJL/AACS/4b/3P+l/xIA9P8AANb/BgDo/x4A6P+Y/0kAt//c/xgAz/+9/yoAsf8e/57/Q/9h/1X/MP9h/0P/hv/P/7f/Z/+e/0P/1P6G/0//GP9J/4z/bf+M/0n/Ev/o/0n/w/8qAEP/AAASANz/MQAAAAwAPQBPAJj/EgAkAG3/SQDo/+7/hgAeAE8ANwC3/zcAJABiAIYAJABDAJMAvQAxANAAGACS/2IA+v9DAHoAvQCrAMoAxACfAB8BBwETATgB+wBpATIB9QB7AegASgH7APUAOAEHAbkBMgEZAb0AegCTAJ8AkwCMALEAkwCTAKsA3P+A/0P/GP+M/7b+JP8k/8j+4f7t/vP+i/7U/kH+tv5//nj+Ev/h/rD+sP4w/4X+Bf/t/gX/kv8k/3T/4v9t/1v/VQCl/xIAbgC3/+7/BgCY/xgA9P8e/zEAZ/8e/z0AdP+3/5kA7v8MAAAApf/6/wYAz/9uAGgAw/+lAKUAegCfAPsAdAAeAFUAAAC3ACQATwDQALf/3P9JAD0AAADi/wYABgAqAPT/3P/i/8//3P+S/+7/TwB0AIwAnwBiAFUAkwDcAEMAkwDKACQAUAEmAeIAPgGZALEA4gBDAIYAjAAGAL0AygBVAG4Ayf/c/24A9P82/9b/HgCl/5L/nv8e/wv/sf88/7H/Q/8w/xIAKv8Y/xIAbf8k/73/mP96/73/sf+G/8P/q/8kALH/q/9JAMn/w//i/+L/DADEAKUAnwBJAIwA0AAeAPT/egDcAIb/DAB6AOL/3P/P/7H/z/+Y/1X/KgBh/2H/sf8Y/0//GP8e//r/t/8F/6X/Q//n/ob/Yf/D/7f/PP+3/6X/mP/J/wAAt/+x/73/mP/6/9b/7v/o/wAAPQCAAFUAEgCTAGIA9QB6AD0ABwE3AJkADQGZAG8BFAJ7AcUBlAETAawBVwEfAY4BsgF1AfYBmgHWABMB0ADEAIwAYgA9AG4A1gB0ANAAaADu/2IAPQAMAMP/kv9V/yr/Hv+r/wX/1P7W/1v/C//P/4z/4f5V/+3+4f7h/n/+nf6L/in+f/5U/k7+sP7I/n/+eP7//mz+l/62/qP+2v5P/zb/gP/P/4D/+v9n/3T/6P/i/9z/PQBVACoATwA9ALEAgABVAL0A4gBuAIwAxABoAIwAQwAkAD0ABgD0/24A6P9PAHQABgDoAGIAMQCxAFsAmP9VAMoADABiAIwAMQDEABgAWwAZAb3/VQAkAAYAPQAxAFUAPQCfABIAgABoAHQAqwD7AFUAtwBpASQAtwCfAPr/MQAqAOL/VQAYAB4AbgC9/xgASQCe/9z/JADi/2IASQD6/58AdAASADEAw/9JAGIA9P8kAPr/TwBJAEMA3P+x/+j/nv/P/4D/JP89AD0Aw/9DAAwA9P/D/3T/hv/u/2f/Sf/i/7H/q//P/+H+MP90/9T+Q/82/xL/sP7z/gX/Kv/t/qP++f68/s7+wv5D/3T/W/96/5j/1v9n/z0AkwD6/2IAgADi/xgAYgBuAKUAVQCMAEkAnwCZALcAkwCGAMoAPQCTACoA4v9bAFUA+v8GADcA9P+M/73/dP8kAD0A6P/oALEAWwAeAAYANwC3ACQAEgBVABgA4gBDAD0AmQBoAGgA7v/P/8n/z/+9/1UAdAA3AHoAbgA9AJ8AVQB6ANYAVQDiAIAAHwFEAbEADQEmAUoBxADQAB8B9QDKAMQAkwBJAG4AdADc/8n/W/8YAE8Aev/i/3T/ev8F///+Z////pH+l/6M/7D+Kf75/n/++f4e/4X+8/62/rD+qf7h/kn/sf8kAL3/nv89AMn/MQAMAJj/MQDD/yoABgDJ/6v/EgDi/+L/vQBJAGIADADi/wAAz/9t/7H/w/8w/+7/Vf/5/nT/8/54/iT/GP/n/p7/JP+3/+7/t/83AFsAkwCTAAwAKgBuADEAAAB6AEMAWwAfAcoA7gCrAPUA9QBXAYEBUAF7AQEBVwETAdwADQHXAY4BgQFXAb0AXQFPAGgASgHcAMoALAGrAG4AvQA9AEkAGADu/0MA7v+3/x4Ayf90/8//Sf9P/5L/5/4S//n+Hv9D//P+tv7O/uH+VP42/wX/i/7a/mD+2v4w/8L+7f6S/yr/t/83AGH/z/+S/8//JADc/8n/EgC3ACoAgACGAIAA6ADQAA0BaQEZAb0AdQHuAKsA1gCfABMBBwGMAGIAdADu/2gAegCS/zcAGACe//r/+v+e/9b/+v/D/wwAjP9b/5L/q/9P/1X/BgC3/7f/bgBoAO7/bgAkANz/6P/o//T/1v/u/5L/PP/0//r/hv/W/4z/Nv9P/1v/GP88//n+MP/5/p3+Kv+Y/+j/Yf+r/2H/T/+A/7H/MQDW/8P/QwCfAAwA6P+A/6v/BgBn/yoAdAB6AMQAtwCTAJMAxAANAW8BVwENASYBdQETAYEBMgFKAXsBEwGaAe4AegDuAIAAbgDcAKUAkwBiAHoADABPANz/hv8YADz/q/+x/1v/T//D/3T/Q/8Y/53+hv/C/rz+Yf8L//n+GP94/hb+bP5y/tT+vP6w/uf+5/4L/53+tv7I/hj/mP90/+7/7v/W/xIAHgDu/4wAegDc/6sABgA9ACYBWwDWAA0BNwA4AcoANwA4AfsAtwAfAUoBVQAfAR8BmQAHAT0AVQD7AEkAMQC9AOj/gACxACQAegBoAO7/MQBoANz/QwBJAAAA+v+9/57/3P9h/wYAYgCG/zcApf+3/8QAygCGAKUAsQA3AL0AkwBDAB4A6P83APr/+v90AEkAt//D/xL/Hv88///+Sf9J/2H/GP9t/1X/kv8kALf/AAAMAAYAPQA3AL3/z/8MAHr/9P+x/6X/yf8S/5L/w/8AAAwADAC9AHQAqwDoAIAAgABJAJMAYgBDAEkAw/+x/3T/DAB0ALH/3P9b/x7/+v+l/+L/Yf9P//T/mP+9/8n/gP9J/6v/sf8k/9z/yf9n/9z/7v8MABgAQwA9ADEAWwDD/x4ADABt/5MABgDJ/0kA4v9DACoA7v8eAGgAJAASADEApf90/73/1v8eALf/3P9bABgA3P8qAFsAKgDEAAwAaADoAL0AEwG3AAEBEwHiAJkASgGlAB4A+wBVAIAAmQAMACoApQBoAOL/TwBVAJj/PQBJANz/AAAq/3r/7v9P/57/hv+G/6v/ev9n/0P/dP/5/jz/7f4e/+L/2v5b/73/nv8YACoAw//6/1sAMQB6AAYAAAB0AKsApf8SAIwAPP/i/+j/3P83AAAAt/+x/4D/q/8AAL3/QwBDACQAsQBiAGIAygAqAM//+v+3/2H/bf8k/x7/hv8w/0//gP8L/xL/dP8k/5L/1v+M/z0A4v+l/8n/VQASABIANwDu/z0AjP90AHQAHgCMAIwAkwC3AMoAWwDoAL0ASQAHAaUAaADuADcAdAB0AAYAkwAYALf/BgDD//T/DAAMABIA4v+GAPr/HgAYAGH/dADi/2f/JACx/6X/NwD6/8//3P8AAMn/PQAeABgAgADo/58AjABPAL0AAAAkAIYADAASADEAEgC9/xgAgP+x/zEAW/8SACoAGAD0/xgA4v9DALEAAAB6AAwAPQB6AJj/6P8xAAYAKgDP/xIAMQC3/6v/t//0/+j/KgD0/5L/+v+S/5L/mP8w/2H/pf9t/yT/nv9D/0n/W/8e/8P/vf9J/5L/AAC3/5j/z/9h/6v/GADi//r/Yf+e/9b/t/+r/8P/DAC9/z0ASQAqAE8AnwDWAHoAjACfAL0AxACAAL0AhgAxANYATwA3ADEA1v9iADcAgABJAEMAVQBJALcAJAAeANz/nv89ANb/7v8kAD0AHgAAAOL/sf9uAPT/KgBbAL3/6P/0/0kAbgCG/9b/egAMACoA9P+3//r/TwD0/wwAVQD6/wAAbgAeAPT/YgB6/+j/6P+M/+L/t/8SAAwAmP+G/9z/mP+Y/9z/7v/u/yQA3P8qAOj/ev8YACr/t//D/6X/hv9J/8P/Q/8SAM//3P9PAKX/1v/o/2f/BgDi/5j/4v90/1sAdAAxADEANwClAGIAkwCGAIYADQFoAO4ALAG9AEQBGQHcAIwAqwCMAD4B4gAeAIYAq//D/+j/t//i/4D/4v+3/yT/ev/5/ob/pf8w/zD/kf5t/zz/sP4q//P+2v5t/0//Bf8w/zD/dP8Y/yT/mP+Y/57/EgBVAB4AbgDcAKUAqwCZAEkAxACZAJ8A0ABiAB4ADABoABgAvQDuAIYA9QA3ADEAsQBuANAAAQFoAJ8ApQBPAL0AjAB6ACYBnwBPAHQA1v/c/xgAq/8eAAwAJABPAJL/mP90/4z/Vf+M/3T/Sf+r/1X/Bf+R/qn+i/4F/7z+kf69/wv/l/75/sj+hf4q/x7/Sf+e/+H+Ev9b/4z/4v+x/7H/7v/0//T/DADP/6v/TwAqAAAATwB0AJMA0AABAegA9QDQAF0BuQEfASYBEwHcACwBGQG9AHUBJgHiAF0BPgFvAQEB+wAZAbcANwBVAGIABgB0AIAAWwAkAOj/+v/J/zEAjP+e/2gAMQBoAFsAdACAAFsA7v8xAAAADAAAAGH/1v+S/5L/w/+Y/4b/4v/c/1v/t/9h/0//jP+x/3r/C/+M/yT///48//P+C/8q/9r+4f7h/hj/Yf8Y/3T/pf8q/zb/Vf8w/8n/yf82/2f/nv+3/9z/kv+9/xgAnv+Y/8n/4v/6/9z/q/8xAG4AVQClAJMAWwBbAIAAWwCrAL3/WwCxAO7/3ACGADcAhgDWAG4A1gDEAHQAkwBbAE8AegCZAKv/WwAAAD0AdAC9/1sAQwA9AMQA3AASAIYAAQH1ANwAygA9ALEAnwCr/zcAEgDD//T/3P+r/yQAAAD6/73/w/9PAMn/z/8qAOj/BgBPAOj/sf8kALf/gP90AEMAYgBoAOj/mQBDALf/HgDu/73/pf+l/5L/Q/9J/yr/kv+x/yr/Nv8Y/zz/dP9J/+7/w/8L/+7/DAAAAAAA+v/J/73/6P+M/yQA7v+3/0kA1v+A/08A4v/6//T/pf8MAMn/3P/J/+L/W//W/4z/kv9VAMn/EgCGADcAAADWAFsAQwCTACQAnwCZAEMASQB6ACQATwBoAG4AbgDP/1UASQAGAFUAWwAYAE8AVQD6/yQANwDu/wAAmQCMAKsAVQAYAFsAYgD6/08AkwDW/1UA4v9h/wAAdP8k/5L/wv5n/0//o/5J//n+MP8k/zz/4f7O/vP+zv5n///+Hv+M/4b/t/+Y/57/+v8MANb/VQCAACQAaADWAOgAHwFQAZkA3ADKAOgADQGZACwBGQE+AR8B0ACTAOgAtwBbAPUAGAB0ANwAMQAeAAwAHgBDAPr/q/8MAG4Az//i/1sAbf9bAJ8AGABuAPr/EgBDAJj/kv8xAKv/t/9n/0n/dP88/87+o/7t/pf+2v6p/rz+7f4L/6n+tv4w//P+bf9P/zz///5h/9z/DAASAOj/VQC3/3oALAFuANwABwGGABkBsQClAGMB3AC3AO4ApQCxAOgAaACZANAAsQBXAUQBgABKASwB7gDcAEkAYgA9AFUA6P9DANb/nv/P/23/ev8S//n+Bf+G//P+Nv+l//P+kv/D/6v/jP+9/1v/Z/+r/zz/3P/u/x4AVQAqACQAMQBoADcAHgD6/1sAxABiAD0AWwA3APT/+v+M/wAA6P9P/z0Asf9D/8P/nv+l/wAAvf/J/xgAYf/u/yQAYf/D/wwA4v/u/yQAVQBVAD0AKgCAAGIAMQCxAG4A6P8GAPr/q//6/5j/q//0/8P/nv9V/xj/+f42/53+dP+A/zb/w/8w/23/gP8q/xL/hv8F/2H/6P88/5j/w/+G/zz/mP/u//r/AABiAKsA3ADoAOgADQENAXUBHwEyATgB1gAHAUQB4gDcAOIAYgD1AJ8AqwAyAW4AmQDEAO7/aAB6AKX/WwD0/8P/NwD6/wwAMQD6/x4AdAAeAIwAHgAkANwAvQBbAA0B0AB0AF0BhgAHAfsAdABuAFUASQDo/+L/w/8eABIAkv/o/73/Yf+Y/2f/mP/u/+L/hv+Y/zD/vf8MAID/7v+A/0//PP9h/0P/ev9J/xL/SQB6/+3+pf9D/1X/bf/5/jD/MP+d/ir/T/+R/rb+4f7h/jz/PP8k/+L/Z/9n/8//+f5n/4D/MP/W/9z/ev/0/6v/1v8qAFX/6P9iADcAhgCZAJkAygB6AMQApQBPAPUAhgCxAJ8AegBJAAAAWwCl/yQA9P9b/yQA+v/P/+j/9P83ABIADADu/2IAKgC3/0MAjP8YAIAAQwCMAFsAegAfAegABgCAABgAKgB0AGIAqwCrAPUA6AAmAQcBBwFKASwBOAGaASYBdAAHAcQAdAD7AKsAMQBuADcAegBiAOL/YgD0/6X/6P+S/4b/sf8q/1X/gP8e/5j/PP8F/6X/Z/8e/0P/C/9P/yT/Q/9D/5j/7v82/wYAMP///oD/MP+r/3T/nv+l/6X/nv9t/0P/Ev9n//r/t//J//r/nv/P/3T/hv+e/+L/PQAMAD0AQwBiAD0AKgA3ACoAKgCMAIYASQBoAAYAJAA3APr/PQCfAHoAHgAAAOj/t//J/+L/EgAqAAwAhgASAO7/JACl/z0AdAAGAGgAjABVAFsANwDJ/8//PQAGAFsASQD0/5MASQB0AIYASQCrANAAjABbANwAtwCrADIBjACrAPUAVQB6AIwAJABoAIwA9P8SADcA9P/u/3r/ev+r/0//Yf+G/x7/Kv9J/6P+i/7z/qP++f50/+H+T/+S/zb/kv8F/1v/BgCl/7f/sf/D/7H/AADi/wwAWwAMADcApf+l/8n/7v/P/yoAKgC3/4YA+v/J/x4Avf8AADcA3P/0/x4Az/83AGIA4v/u/xIApf90//r/4v+Y/9z/W/90/xIA3P/u/z0AEgAqAM//yf9VAOj/TwCGACQAgAB0AG4A1gC3ACoAygB6AE8A+wCfAAcBsQAkAMoAhgD0/9AAqwBVAHoA9P/W/08AEgD6/4YAbgAMAB4AHgBVAMQAtwDuAIwAYgBPAJMAKgCrALEA1v/1AMQAjACfAHQADABbAEMAgP+e/yr/T/9P/5j/z//D/0n/JP90/x7/dP9V/7f/EgAeAJj/mP8AAIz/+v/P/4z/Hv/h/gv/Ev8e/wv/dP96/2H/Sf///qX/AACY/9b/dP/J/xIAsf90/5L/t/+r/0MAmP9t/23/T//6/1UAw/8MAJkA1v96AG4AegAmAcQANwD0/9z/QwBuAHT/7v+ZAAYAhgDi/4b/TwCx/73/qwB0AB4ApQD6/+j/bgAqAEkAdABiACoAbgAeAB4ApQBDAJkANwDi/6sAPQBJAD0AAAAqAPT/+v83AFsAJACMAKUAPQCxAE8A3P+lADEAEgB0ACoAmQCGAIAAnwDcAHoApQDWAOj/dABbANz/GADD/4b/AADu/+7/HgCS/3r/9P+Y/0n/gP/h/jb/W/+R/tr+Bf94/s7+8/54/gv/5/7h/ir/1P5t/4b/PP/P//T/q//W/+j/yf90/xj/C/9b/2H/T//J/5j/bf+9/5L/t/8GAMP/3P8xADEA6P/o/yQA7v/J/7H/GABVAPr/SQAxAOj/EgBPAO4AGQGxAA0BlAEsAegADQHoACYBOAE4AV0BRAFQATIB9QAHATgBMgHoANYA1gDWAMoAnwClABkBpQC3APsATwAHAVUAGACMAB4ADAAGADEA7v8xAPr/Vf/W/4z/PP/P/3T/w//W/0//t/+9/wYAKgAGAAYA+v9JAOj/4v+3/4D/TwB6/4b/3P8S/yT/Sf8L/7z+2v6F/uH+8/75/mH/C/8w/0n/Z/8F/0//hv/z/jb/W/8S/7H/9P+Y/wAAyf/c/zcATwASAFUAMQBPAHQAz/8qAGIAKgBuAE8AEgBVAAYADAAeAEkAJAA3AEkAHgCxAOj/yf/o/73/nv+Y/3T/Z/9VAG3/Yf/P/9b/GACl/8P/3P8GABIAKgAAABgAWwAYAB4AMQA9AJkAmQAqAGIAqwBuAJkAsQDEAPUA4gCxAAEBEwGGAPsAygBbAKUAYgBiAJkAyf/u/08A+v9VAAAA6P+r/4b/Z//J/3r/Sf8eAEn/hv8xALf/pf/0/8P/PQAAAL3/WwA9AAYASQB0AID/GAAAAKv/NwDP/+7/JAAAAMn/+v8MAAYASQDi/6X/NwCr/6X/1v/5/nr/kv9n/23/JP9P/23/Sf9t/7H/Bf+M//T/t//6/0MANwD6/9b/KgBuAFUA6P/0/zcAq/8kAJ7/q/8YAMn/4v+3/73/z//W/z0AHgDc/1UAdACfADEANwBiAAwA+v8eAE8A7v/0/08ADACGAPsAegClAG4AQwClAEMAEgBoAB4AJAAxADEApQBoAMn/NwCfACoA1gBVAD0ApQASAHQASQAYAPT/QwA3AMn/TwCx/6v/6P+Y/wAAnv82/4z/7v+e/73/vf/W//T/t//c/73/SQBbAPr/9P8GADEAPQASAB4AVQDi/+L/BgC3/wAAvf+A/9b/q/9b/5L/jP8e/2H/Kv+M/8P/W/90/2f/nv+x/wAA+v/u/xgA1v8xAIwAmP/i/z0A4v8eAPr/hgAeAO7/1v/u/9z/sf+MACQA+v+MAPr/BgBVADEAegAMAEMAEgAeAMP/Sf90/0//ev9h/0n/JP8w/xj/JP82/zz/Hv9J/5L/vf/J/57/MQAkAKv/QwAqAFUAmQCTANAAkwDEAL0A9QC9AL0AMgEZAVcBAQHiABMBHwEBARkB3AB6AB8B6AABAeIAtwDKAIAAnwBuAKsAhgC3AJ8AQwB0AEkAYgAxAAYADADW/x4Asf+e/6X/Q/9b/zD/bf+A/4z/q/96/2H/bf90/2H/4v/0/zb/pf8AAL3/vf/D//T/DAAkABgADAC3/9b/NwBPAFUAMQAqAEkAWwBJAJ8AgABiAIYAGAD0/z0APQAMACoA4v90/57/gP9n/2H/Vf9V//n+PP+M/73/hv82/5j/1P4L/0n/hf4Y/87+7f4L//P+Q//C/mH/JP9t/4z/JP+Y/0P/Q/9t/57/Vf+9/73/t//i/23/pf+3/8n/pf83ABgA3P9iAJMAbgBoAGIABgBJADcAMQBDAPr/dAD1AIAAOAEBAdYAsgEfATIBRAHcAPUAPgHuAPUAXQHcAD4BVwG3ABMB3ABoAAEBbgCxAB8BjADWAIYAEwENAasAWwBbAG4Anv/i/6v/Yf90/4D/MP8q/zD/1P4Y/7b+tv4w/wv/Bf/D/4b///5V/w==\" type=\"audio/wav\" />\n",
              "                    Your browser does not support the audio element.\n",
              "                </audio>\n",
              "              "
            ],
            "text/plain": [
              "<IPython.lib.display.Audio object>"
            ]
          },
          "metadata": {
            "tags": []
          },
          "execution_count": 8
        }
      ]
    },
    {
      "cell_type": "markdown",
      "metadata": {
        "id": "k6-cFIKMVnAc"
      },
      "source": [
        "Formatting the Data\n",
        "-------------------\n",
        "\n",
        "This is a good place to apply transformations to the data. For the\n",
        "waveform, we downsample the audio for faster processing without losing\n",
        "too much of the classification power.\n",
        "\n",
        "We don’t need to apply other transformations here. It is common for some\n",
        "datasets though to have to reduce the number of channels (say from\n",
        "stereo to mono) by either taking the mean along the channel dimension,\n",
        "or simply keeping only one of the channels. Since SpeechCommands uses a\n",
        "single channel for audio, this is not needed here.\n",
        "\n",
        "\n"
      ]
    },
    {
      "cell_type": "code",
      "metadata": {
        "id": "DebvnyEpVnAd",
        "outputId": "9169ba39-b3ee-460f-adee-95646c3739fd",
        "colab": {
          "base_uri": "https://localhost:8080/",
          "height": 75
        }
      },
      "source": [
        "new_sample_rate = 8000\n",
        "transform = torchaudio.transforms.Resample(orig_freq=sample_rate, new_freq=new_sample_rate)\n",
        "transformed = transform(waveform)\n",
        "\n",
        "ipd.Audio(transformed.numpy(), rate=new_sample_rate)"
      ],
      "execution_count": 9,
      "outputs": [
        {
          "output_type": "execute_result",
          "data": {
            "text/html": [
              "\n",
              "                <audio controls=\"controls\" >\n",
              "                    <source src=\"data:audio/wav;base64,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\" type=\"audio/wav\" />\n",
              "                    Your browser does not support the audio element.\n",
              "                </audio>\n",
              "              "
            ],
            "text/plain": [
              "<IPython.lib.display.Audio object>"
            ]
          },
          "metadata": {
            "tags": []
          },
          "execution_count": 9
        }
      ]
    },
    {
      "cell_type": "markdown",
      "metadata": {
        "id": "M5eWbC4KVnAd"
      },
      "source": [
        "We are encoding each word using its index in the list of labels.\n",
        "\n",
        "\n"
      ]
    },
    {
      "cell_type": "code",
      "metadata": {
        "id": "wlMCZDdOVnAd",
        "outputId": "687816b7-179e-4a1f-c70b-bb39ec7f0f97",
        "colab": {
          "base_uri": "https://localhost:8080/"
        }
      },
      "source": [
        "def label_to_index(word):\n",
        "    # Return the position of the word in labels\n",
        "    return torch.tensor(labels.index(word))\n",
        "\n",
        "\n",
        "def index_to_label(index):\n",
        "    # Return the word corresponding to the index in labels\n",
        "    # This is the inverse of label_to_index\n",
        "    return labels[index]\n",
        "\n",
        "\n",
        "word_start = \"yes\"\n",
        "index = label_to_index(word_start)\n",
        "word_recovered = index_to_label(index)\n",
        "\n",
        "print(word_start, \"-->\", index, \"-->\", word_recovered)"
      ],
      "execution_count": 10,
      "outputs": [
        {
          "output_type": "stream",
          "text": [
            "yes --> tensor(33) --> yes\n"
          ],
          "name": "stdout"
        }
      ]
    },
    {
      "cell_type": "markdown",
      "metadata": {
        "id": "XbIg7Og2VnAd"
      },
      "source": [
        "To turn a list of data point made of audio recordings and utterances\n",
        "into two batched tensors for the model, we implement a collate function\n",
        "which is used by the PyTorch DataLoader that allows us to iterate over a\n",
        "dataset by batches. Please see `the\n",
        "documentation <https://pytorch.org/docs/stable/data.html#working-with-collate-fn>`__\n",
        "for more information about working with a collate function.\n",
        "\n",
        "In the collate function, we also apply the resampling, and the text\n",
        "encoding.\n",
        "\n",
        "\n"
      ]
    },
    {
      "cell_type": "code",
      "metadata": {
        "id": "__vbA8kzVnAe"
      },
      "source": [
        "def pad_sequence(batch):\n",
        "    # Make all tensor in a batch the same length by padding with zeros\n",
        "    batch = [item.t() for item in batch]\n",
        "    batch = torch.nn.utils.rnn.pad_sequence(batch, batch_first=True, padding_value=0.)\n",
        "    return batch.permute(0, 2, 1)\n",
        "\n",
        "\n",
        "def collate_fn(batch):\n",
        "\n",
        "    # A data tuple has the form:\n",
        "    # waveform, sample_rate, label, speaker_id, utterance_number\n",
        "\n",
        "    tensors, targets = [], []\n",
        "\n",
        "    # Gather in lists, and encode labels as indices\n",
        "    for waveform, _, label, *_ in batch:\n",
        "        tensors += [waveform]\n",
        "        targets += [label_to_index(label)]\n",
        "\n",
        "    # Group the list of tensors into a batched tensor\n",
        "    tensors = pad_sequence(tensors)\n",
        "    targets = torch.stack(targets)\n",
        "\n",
        "    return tensors, targets\n",
        "\n",
        "\n",
        "batch_size = 256\n",
        "\n",
        "if device == \"cuda\":\n",
        "    num_workers = 1\n",
        "    pin_memory = True\n",
        "else:\n",
        "    num_workers = 0\n",
        "    pin_memory = False\n",
        "\n",
        "train_loader = torch.utils.data.DataLoader(\n",
        "    train_set,\n",
        "    batch_size=batch_size,\n",
        "    shuffle=True,\n",
        "    collate_fn=collate_fn,\n",
        "    num_workers=num_workers,\n",
        "    pin_memory=pin_memory,\n",
        ")\n",
        "test_loader = torch.utils.data.DataLoader(\n",
        "    test_set,\n",
        "    batch_size=batch_size,\n",
        "    shuffle=False,\n",
        "    drop_last=False,\n",
        "    collate_fn=collate_fn,\n",
        "    num_workers=num_workers,\n",
        "    pin_memory=pin_memory,\n",
        ")"
      ],
      "execution_count": 11,
      "outputs": []
    },
    {
      "cell_type": "markdown",
      "metadata": {
        "id": "AiAm0tLzVnAe"
      },
      "source": [
        "Define the Network\n",
        "------------------\n",
        "\n",
        "For this tutorial we will use a convolutional neural network to process\n",
        "the raw audio data. Usually more advanced transforms are applied to the\n",
        "audio data, however CNNs can be used to accurately process the raw data.\n",
        "The specific architecture is modeled after the M5 network architecture\n",
        "described in `this paper <https://arxiv.org/pdf/1610.00087.pdf>`__. An\n",
        "important aspect of models processing raw audio data is the receptive\n",
        "field of their first layer’s filters. Our model’s first filter is length\n",
        "80 so when processing audio sampled at 8kHz the receptive field is\n",
        "around 10ms (and at 4kHz, around 20 ms). This size is similar to speech\n",
        "processing applications that often use receptive fields ranging from\n",
        "20ms to 40ms.\n",
        "\n",
        "\n"
      ]
    },
    {
      "cell_type": "code",
      "metadata": {
        "id": "RWmsRX7pVnAe",
        "outputId": "2891d8bc-5c9b-4979-87a6-b589d3e93c19",
        "colab": {
          "base_uri": "https://localhost:8080/"
        }
      },
      "source": [
        "class M5(nn.Module):\n",
        "    def __init__(self, n_input=1, n_output=35, stride=16, n_channel=32):\n",
        "        super().__init__()\n",
        "        self.conv1 = nn.Conv1d(n_input, n_channel, kernel_size=80, stride=stride)\n",
        "        self.bn1 = nn.BatchNorm1d(n_channel)\n",
        "        self.pool1 = nn.MaxPool1d(4)\n",
        "        self.conv2 = nn.Conv1d(n_channel, n_channel, kernel_size=3)\n",
        "        self.bn2 = nn.BatchNorm1d(n_channel)\n",
        "        self.pool2 = nn.MaxPool1d(4)\n",
        "        self.conv3 = nn.Conv1d(n_channel, 2 * n_channel, kernel_size=3)\n",
        "        self.bn3 = nn.BatchNorm1d(2 * n_channel)\n",
        "        self.pool3 = nn.MaxPool1d(4)\n",
        "        self.conv4 = nn.Conv1d(2 * n_channel, 2 * n_channel, kernel_size=3)\n",
        "        self.bn4 = nn.BatchNorm1d(2 * n_channel)\n",
        "        self.pool4 = nn.MaxPool1d(4)\n",
        "        self.fc1 = nn.Linear(2 * n_channel, n_output)\n",
        "\n",
        "    def forward(self, x):\n",
        "        x = self.conv1(x)\n",
        "        x = F.relu(self.bn1(x))\n",
        "        x = self.pool1(x)\n",
        "        x = self.conv2(x)\n",
        "        x = F.relu(self.bn2(x))\n",
        "        x = self.pool2(x)\n",
        "        x = self.conv3(x)\n",
        "        x = F.relu(self.bn3(x))\n",
        "        x = self.pool3(x)\n",
        "        x = self.conv4(x)\n",
        "        x = F.relu(self.bn4(x))\n",
        "        x = self.pool4(x)\n",
        "        x = F.avg_pool1d(x, x.shape[-1])\n",
        "        x = x.permute(0, 2, 1)\n",
        "        x = self.fc1(x)\n",
        "        return F.log_softmax(x, dim=2)\n",
        "\n",
        "\n",
        "model = M5(n_input=transformed.shape[0], n_output=len(labels))\n",
        "model.to(device)\n",
        "print(model)\n",
        "\n",
        "\n",
        "def count_parameters(model):\n",
        "    return sum(p.numel() for p in model.parameters() if p.requires_grad)\n",
        "\n",
        "\n",
        "n = count_parameters(model)\n",
        "print(\"Number of parameters: %s\" % n)"
      ],
      "execution_count": 12,
      "outputs": [
        {
          "output_type": "stream",
          "text": [
            "M5(\n",
            "  (conv1): Conv1d(1, 32, kernel_size=(80,), stride=(16,))\n",
            "  (bn1): BatchNorm1d(32, eps=1e-05, momentum=0.1, affine=True, track_running_stats=True)\n",
            "  (pool1): MaxPool1d(kernel_size=4, stride=4, padding=0, dilation=1, ceil_mode=False)\n",
            "  (conv2): Conv1d(32, 32, kernel_size=(3,), stride=(1,))\n",
            "  (bn2): BatchNorm1d(32, eps=1e-05, momentum=0.1, affine=True, track_running_stats=True)\n",
            "  (pool2): MaxPool1d(kernel_size=4, stride=4, padding=0, dilation=1, ceil_mode=False)\n",
            "  (conv3): Conv1d(32, 64, kernel_size=(3,), stride=(1,))\n",
            "  (bn3): BatchNorm1d(64, eps=1e-05, momentum=0.1, affine=True, track_running_stats=True)\n",
            "  (pool3): MaxPool1d(kernel_size=4, stride=4, padding=0, dilation=1, ceil_mode=False)\n",
            "  (conv4): Conv1d(64, 64, kernel_size=(3,), stride=(1,))\n",
            "  (bn4): BatchNorm1d(64, eps=1e-05, momentum=0.1, affine=True, track_running_stats=True)\n",
            "  (pool4): MaxPool1d(kernel_size=4, stride=4, padding=0, dilation=1, ceil_mode=False)\n",
            "  (fc1): Linear(in_features=64, out_features=35, bias=True)\n",
            ")\n",
            "Number of parameters: 26915\n"
          ],
          "name": "stdout"
        }
      ]
    },
    {
      "cell_type": "markdown",
      "metadata": {
        "id": "ZPhjNiTcVnAf"
      },
      "source": [
        "We will use the same optimization technique used in the paper, an Adam\n",
        "optimizer with weight decay set to 0.0001. At first, we will train with\n",
        "a learning rate of 0.01, but we will use a ``scheduler`` to decrease it\n",
        "to 0.001 during training after 20 epochs.\n",
        "\n",
        "\n"
      ]
    },
    {
      "cell_type": "code",
      "metadata": {
        "id": "X_ZUCZ1gVnAf"
      },
      "source": [
        "optimizer = optim.Adam(model.parameters(), lr=0.01, weight_decay=0.0001)\n",
        "scheduler = optim.lr_scheduler.StepLR(optimizer, step_size=20, gamma=0.1)  # reduce the learning after 20 epochs by a factor of 10"
      ],
      "execution_count": 13,
      "outputs": []
    },
    {
      "cell_type": "markdown",
      "metadata": {
        "id": "TinV30rBVnAf"
      },
      "source": [
        "Training and Testing the Network\n",
        "--------------------------------\n",
        "\n",
        "Now let’s define a training function that will feed our training data\n",
        "into the model and perform the backward pass and optimization steps. For\n",
        "training, the loss we will use is the negative log-likelihood. The\n",
        "network will then be tested after each epoch to see how the accuracy\n",
        "varies during the training.\n",
        "\n",
        "\n"
      ]
    },
    {
      "cell_type": "code",
      "metadata": {
        "id": "FWecluPaVnAg"
      },
      "source": [
        "def train(model, epoch, log_interval):\n",
        "    model.train()\n",
        "    for batch_idx, (data, target) in enumerate(train_loader):\n",
        "\n",
        "        data = data.to(device)\n",
        "        target = target.to(device)\n",
        "\n",
        "        # apply transform and model on whole batch directly on device\n",
        "        data = transform(data)\n",
        "        output = model(data)\n",
        "\n",
        "        # negative log-likelihood for a tensor of size (batch x 1 x n_output)\n",
        "        loss = F.nll_loss(output.squeeze(), target)\n",
        "\n",
        "        optimizer.zero_grad()\n",
        "        loss.backward()\n",
        "        optimizer.step()\n",
        "\n",
        "        # print training stats\n",
        "        if batch_idx % log_interval == 0:\n",
        "            print(f\"Train Epoch: {epoch} [{batch_idx * len(data)}/{len(train_loader.dataset)} ({100. * batch_idx / len(train_loader):.0f}%)]\\tLoss: {loss.item():.6f}\")\n",
        "\n",
        "        # update progress bar\n",
        "        pbar.update(pbar_update)\n",
        "        # record loss\n",
        "        losses.append(loss.item())"
      ],
      "execution_count": 14,
      "outputs": []
    },
    {
      "cell_type": "markdown",
      "metadata": {
        "id": "6Zy7DuldVnAg"
      },
      "source": [
        "Now that we have a training function, we need to make one for testing\n",
        "the networks accuracy. We will set the model to ``eval()`` mode and then\n",
        "run inference on the test dataset. Calling ``eval()`` sets the training\n",
        "variable in all modules in the network to false. Certain layers like\n",
        "batch normalization and dropout layers behave differently during\n",
        "training so this step is crucial for getting correct results.\n",
        "\n",
        "\n"
      ]
    },
    {
      "cell_type": "code",
      "metadata": {
        "id": "5RomKsAXVnAg"
      },
      "source": [
        "def number_of_correct(pred, target):\n",
        "    # count number of correct predictions\n",
        "    return pred.squeeze().eq(target).sum().item()\n",
        "\n",
        "\n",
        "def get_likely_index(tensor):\n",
        "    # find most likely label index for each element in the batch\n",
        "    return tensor.argmax(dim=-1)\n",
        "\n",
        "\n",
        "def test(model, epoch):\n",
        "    model.eval()\n",
        "    correct = 0\n",
        "    for data, target in test_loader:\n",
        "\n",
        "        data = data.to(device)\n",
        "        target = target.to(device)\n",
        "\n",
        "        # apply transform and model on whole batch directly on device\n",
        "        data = transform(data)\n",
        "        output = model(data)\n",
        "\n",
        "        pred = get_likely_index(output)\n",
        "        correct += number_of_correct(pred, target)\n",
        "\n",
        "        # update progress bar\n",
        "        pbar.update(pbar_update)\n",
        "\n",
        "    print(f\"\\nTest Epoch: {epoch}\\tAccuracy: {correct}/{len(test_loader.dataset)} ({100. * correct / len(test_loader.dataset):.0f}%)\\n\")"
      ],
      "execution_count": 15,
      "outputs": []
    },
    {
      "cell_type": "markdown",
      "metadata": {
        "id": "anwTuLuqVnAh"
      },
      "source": [
        "Finally, we can train and test the network. We will train the network\n",
        "for ten epochs then reduce the learn rate and train for ten more epochs.\n",
        "The network will be tested after each epoch to see how the accuracy\n",
        "varies during the training.\n",
        "\n",
        "\n"
      ]
    },
    {
      "cell_type": "code",
      "metadata": {
        "id": "vJ5MTczMVnAh",
        "outputId": "c1044635-bbc5-4908-8671-33f39d1e84fd",
        "colab": {
          "base_uri": "https://localhost:8080/",
          "height": 897,
          "referenced_widgets": [
            "e873963ba3d447c8aa7c42d2134864a5",
            "1848c89d88b2488fa7c4fe90126f049f",
            "41450253a6c548219e1ae64084b5ba17",
            "2806a813e905469b8e495b6df14524db",
            "01e6f61d93514c45a5e99c5f83ef1748",
            "fcaf2ec692704789884e4910d8d4d9b0",
            "b7e160002d5a4a8387e297eb340e7b5a",
            "5647b4370516419c864089f6a0fd2496"
          ]
        }
      },
      "source": [
        "log_interval = 20\n",
        "n_epoch = 2\n",
        "\n",
        "pbar_update = 1 / (len(train_loader) + len(test_loader))\n",
        "losses = []\n",
        "\n",
        "# The transform needs to live on the same device as the model and the data.\n",
        "transform = transform.to(device)\n",
        "with tqdm(total=n_epoch) as pbar:\n",
        "    for epoch in range(1, n_epoch + 1):\n",
        "        train(model, epoch, log_interval)\n",
        "        test(model, epoch)\n",
        "        scheduler.step()\n",
        "\n",
        "# Let's plot the training loss versus the number of iteration.\n",
        "# plt.plot(losses);\n",
        "# plt.title(\"training loss\");"
      ],
      "execution_count": 16,
      "outputs": [
        {
          "output_type": "display_data",
          "data": {
            "application/vnd.jupyter.widget-view+json": {
              "model_id": "e873963ba3d447c8aa7c42d2134864a5",
              "version_minor": 0,
              "version_major": 2
            },
            "text/plain": [
              "HBox(children=(FloatProgress(value=0.0, max=2.0), HTML(value='')))"
            ]
          },
          "metadata": {
            "tags": []
          }
        },
        {
          "output_type": "stream",
          "text": [
            "/usr/local/lib/python3.7/dist-packages/torch/nn/functional.py:652: UserWarning: Named tensors and all their associated APIs are an experimental feature and subject to change. Please do not use them for anything important until they are released as stable. (Triggered internally at  /pytorch/c10/core/TensorImpl.h:1156.)\n",
            "  return torch.max_pool1d(input, kernel_size, stride, padding, dilation, ceil_mode)\n"
          ],
          "name": "stderr"
        },
        {
          "output_type": "stream",
          "text": [
            "Train Epoch: 1 [0/105829 (0%)]\tLoss: 3.712775\n",
            "Train Epoch: 1 [5120/105829 (5%)]\tLoss: 2.970527\n",
            "Train Epoch: 1 [10240/105829 (10%)]\tLoss: 2.632764\n",
            "Train Epoch: 1 [15360/105829 (14%)]\tLoss: 2.192447\n",
            "Train Epoch: 1 [20480/105829 (19%)]\tLoss: 2.196807\n",
            "Train Epoch: 1 [25600/105829 (24%)]\tLoss: 1.859966\n",
            "Train Epoch: 1 [30720/105829 (29%)]\tLoss: 1.752786\n",
            "Train Epoch: 1 [35840/105829 (34%)]\tLoss: 1.611576\n",
            "Train Epoch: 1 [40960/105829 (39%)]\tLoss: 1.359733\n",
            "Train Epoch: 1 [46080/105829 (43%)]\tLoss: 1.490827\n",
            "Train Epoch: 1 [51200/105829 (48%)]\tLoss: 1.309602\n",
            "Train Epoch: 1 [56320/105829 (53%)]\tLoss: 1.425782\n",
            "Train Epoch: 1 [61440/105829 (58%)]\tLoss: 1.457791\n",
            "Train Epoch: 1 [66560/105829 (63%)]\tLoss: 1.236634\n",
            "Train Epoch: 1 [71680/105829 (68%)]\tLoss: 1.136428\n",
            "Train Epoch: 1 [76800/105829 (72%)]\tLoss: 1.277911\n",
            "Train Epoch: 1 [81920/105829 (77%)]\tLoss: 1.128214\n",
            "Train Epoch: 1 [87040/105829 (82%)]\tLoss: 1.091721\n",
            "Train Epoch: 1 [92160/105829 (87%)]\tLoss: 1.141562\n",
            "Train Epoch: 1 [97280/105829 (92%)]\tLoss: 1.025429\n",
            "Train Epoch: 1 [102400/105829 (97%)]\tLoss: 1.244674\n",
            "\n",
            "Test Epoch: 1\tAccuracy: 7672/11005 (70%)\n",
            "\n",
            "Train Epoch: 2 [0/105829 (0%)]\tLoss: 0.969852\n",
            "Train Epoch: 2 [5120/105829 (5%)]\tLoss: 0.855191\n",
            "Train Epoch: 2 [10240/105829 (10%)]\tLoss: 1.007275\n",
            "Train Epoch: 2 [15360/105829 (14%)]\tLoss: 0.919643\n",
            "Train Epoch: 2 [20480/105829 (19%)]\tLoss: 0.996517\n",
            "Train Epoch: 2 [25600/105829 (24%)]\tLoss: 0.877714\n",
            "Train Epoch: 2 [30720/105829 (29%)]\tLoss: 0.853068\n",
            "Train Epoch: 2 [35840/105829 (34%)]\tLoss: 0.854156\n",
            "Train Epoch: 2 [40960/105829 (39%)]\tLoss: 0.981553\n",
            "Train Epoch: 2 [46080/105829 (43%)]\tLoss: 0.711679\n",
            "Train Epoch: 2 [51200/105829 (48%)]\tLoss: 1.044579\n",
            "Train Epoch: 2 [56320/105829 (53%)]\tLoss: 0.889551\n",
            "Train Epoch: 2 [61440/105829 (58%)]\tLoss: 0.767788\n",
            "Train Epoch: 2 [66560/105829 (63%)]\tLoss: 0.678661\n",
            "Train Epoch: 2 [71680/105829 (68%)]\tLoss: 0.727730\n",
            "Train Epoch: 2 [76800/105829 (72%)]\tLoss: 0.764804\n",
            "Train Epoch: 2 [81920/105829 (77%)]\tLoss: 0.739438\n",
            "Train Epoch: 2 [87040/105829 (82%)]\tLoss: 0.861406\n",
            "Train Epoch: 2 [92160/105829 (87%)]\tLoss: 0.877078\n",
            "Train Epoch: 2 [97280/105829 (92%)]\tLoss: 0.720151\n",
            "Train Epoch: 2 [102400/105829 (97%)]\tLoss: 0.789276\n",
            "\n",
            "Test Epoch: 2\tAccuracy: 8003/11005 (73%)\n",
            "\n",
            "\n"
          ],
          "name": "stdout"
        }
      ]
    },
    {
      "cell_type": "markdown",
      "metadata": {
        "id": "DjS8c11zVnAh"
      },
      "source": [
        "The network should be more than 65% accurate on the test set after 2\n",
        "epochs, and 85% after 21 epochs. Let’s look at the last words in the\n",
        "train set, and see how the model did on it.\n",
        "\n",
        "\n"
      ]
    },
    {
      "cell_type": "code",
      "metadata": {
        "id": "hRHrLuB8VnAh",
        "outputId": "9c1f72bc-c109-4f5d-9df9-473e3a8459c9",
        "colab": {
          "base_uri": "https://localhost:8080/"
        }
      },
      "source": [
        "def predict(tensor):\n",
        "    # Use the model to predict the label of the waveform\n",
        "    tensor = tensor.to(device)\n",
        "    tensor = transform(tensor)\n",
        "    tensor = model(tensor.unsqueeze(0))\n",
        "    tensor = get_likely_index(tensor)\n",
        "    tensor = index_to_label(tensor.squeeze())\n",
        "    return tensor\n",
        "\n",
        "\n",
        "waveform, sample_rate, utterance, *_ = train_set[-1]\n",
        "ipd.Audio(waveform.numpy(), rate=sample_rate)\n",
        "\n",
        "print(f\"Expected: {utterance}. Predicted: {predict(waveform)}.\")"
      ],
      "execution_count": 17,
      "outputs": [
        {
          "output_type": "stream",
          "text": [
            "Expected: zero. Predicted: zero.\n"
          ],
          "name": "stdout"
        }
      ]
    },
    {
      "cell_type": "markdown",
      "metadata": {
        "id": "dRyHU71rVnAh"
      },
      "source": [
        "Let’s find an example that isn’t classified correctly, if there is one.\n",
        "\n",
        "\n"
      ]
    },
    {
      "cell_type": "code",
      "metadata": {
        "id": "r1OHbwLaVnAh",
        "outputId": "c0e99731-c732-4d61-aa0a-f24c3f8104fe",
        "colab": {
          "base_uri": "https://localhost:8080/"
        }
      },
      "source": [
        "for i, (waveform, sample_rate, utterance, *_) in enumerate(test_set):\n",
        "    output = predict(waveform)\n",
        "    if output != utterance:\n",
        "        ipd.Audio(waveform.numpy(), rate=sample_rate)\n",
        "        print(f\"Data point #{i}. Expected: {utterance}. Predicted: {output}.\")\n",
        "        break\n",
        "else:\n",
        "    print(\"All examples in this dataset were correctly classified!\")\n",
        "    print(\"In this case, let's just look at the last data point\")\n",
        "    ipd.Audio(waveform.numpy(), rate=sample_rate)\n",
        "    print(f\"Data point #{i}. Expected: {utterance}. Predicted: {output}.\")"
      ],
      "execution_count": 18,
      "outputs": [
        {
          "output_type": "stream",
          "text": [
            "Data point #1. Expected: right. Predicted: nine.\n"
          ],
          "name": "stdout"
        }
      ]
    },
    {
      "cell_type": "markdown",
      "metadata": {
        "id": "ctL4kFEWVnAi"
      },
      "source": [
        "Feel free to try with one of your own recordings of one of the labels!\n",
        "For example, using Colab, say “Go” while executing the cell below. This\n",
        "will record one second of audio and try to classify it.\n",
        "\n",
        "\n"
      ]
    },
    {
      "cell_type": "code",
      "metadata": {
        "id": "zAS7LyWcVnAi",
        "outputId": "d77fbfd7-ef0e-45a0-ff87-85cd1a8d2527",
        "colab": {
          "base_uri": "https://localhost:8080/",
          "height": 123
        }
      },
      "source": [
        "from google.colab import output as colab_output\n",
        "from base64 import b64decode\n",
        "from io import BytesIO\n",
        "from pydub import AudioSegment\n",
        "\n",
        "\n",
        "RECORD = \"\"\"\n",
        "const sleep  = time => new Promise(resolve => setTimeout(resolve, time))\n",
        "const b2text = blob => new Promise(resolve => {\n",
        "  const reader = new FileReader()\n",
        "  reader.onloadend = e => resolve(e.srcElement.result)\n",
        "  reader.readAsDataURL(blob)\n",
        "})\n",
        "var record = time => new Promise(async resolve => {\n",
        "  stream = await navigator.mediaDevices.getUserMedia({ audio: true })\n",
        "  recorder = new MediaRecorder(stream)\n",
        "  chunks = []\n",
        "  recorder.ondataavailable = e => chunks.push(e.data)\n",
        "  recorder.start()\n",
        "  await sleep(time)\n",
        "  recorder.onstop = async ()=>{\n",
        "    blob = new Blob(chunks)\n",
        "    text = await b2text(blob)\n",
        "    resolve(text)\n",
        "  }\n",
        "  recorder.stop()\n",
        "})\n",
        "\"\"\"\n",
        "\n",
        "\n",
        "def record(seconds=1):\n",
        "    display(ipd.Javascript(RECORD))\n",
        "    print(f\"Recording started for {seconds} seconds.\")\n",
        "    s = colab_output.eval_js(\"record(%d)\" % (seconds * 1000))\n",
        "    print(\"Recording ended.\")\n",
        "    b = b64decode(s.split(\",\")[1])\n",
        "\n",
        "    fileformat = \"wav\"\n",
        "    filename = f\"_audio.{fileformat}\"\n",
        "    AudioSegment.from_file(BytesIO(b)).export(filename, format=fileformat)\n",
        "    return torchaudio.load(filename)\n",
        "\n",
        "\n",
        "waveform, sample_rate = record()\n",
        "print(f\"Predicted: {predict(waveform)}.\")\n",
        "ipd.Audio(waveform.numpy(), rate=sample_rate)"
      ],
      "execution_count": 21,
      "outputs": [
        {
          "output_type": "display_data",
          "data": {
            "application/javascript": [
              "\n",
              "const sleep  = time => new Promise(resolve => setTimeout(resolve, time))\n",
              "const b2text = blob => new Promise(resolve => {\n",
              "  const reader = new FileReader()\n",
              "  reader.onloadend = e => resolve(e.srcElement.result)\n",
              "  reader.readAsDataURL(blob)\n",
              "})\n",
              "var record = time => new Promise(async resolve => {\n",
              "  stream = await navigator.mediaDevices.getUserMedia({ audio: true })\n",
              "  recorder = new MediaRecorder(stream)\n",
              "  chunks = []\n",
              "  recorder.ondataavailable = e => chunks.push(e.data)\n",
              "  recorder.start()\n",
              "  await sleep(time)\n",
              "  recorder.onstop = async ()=>{\n",
              "    blob = new Blob(chunks)\n",
              "    text = await b2text(blob)\n",
              "    resolve(text)\n",
              "  }\n",
              "  recorder.stop()\n",
              "})\n"
            ],
            "text/plain": [
              "<IPython.core.display.Javascript object>"
            ]
          },
          "metadata": {
            "tags": []
          }
        },
        {
          "output_type": "stream",
          "text": [
            "Recording started for 1 seconds.\n",
            "Recording ended.\n",
            "Predicted: zero.\n"
          ],
          "name": "stdout"
        },
        {
          "output_type": "execute_result",
          "data": {
            "text/html": [
              "\n",
              "                <audio controls=\"controls\" >\n",
              "                    <source src=\"data:audio/wav;base64,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\" type=\"audio/wav\" />\n",
              "                    Your browser does not support the audio element.\n",
              "                </audio>\n",
              "              "
            ],
            "text/plain": [
              "<IPython.lib.display.Audio object>"
            ]
          },
          "metadata": {
            "tags": []
          },
          "execution_count": 21
        }
      ]
    },
    {
      "cell_type": "markdown",
      "metadata": {
        "id": "KTFDvtKjVnAi"
      },
      "source": [
        "Conclusion\n",
        "----------\n",
        "\n",
        "In this tutorial, we used torchaudio to load a dataset and resample the\n",
        "signal. We have then defined a neural network that we trained to\n",
        "recognize a given command. There are also other data preprocessing\n",
        "methods, such as finding the mel frequency cepstral coefficients (MFCC),\n",
        "that can reduce the size of the dataset. This transform is also\n",
        "available in torchaudio as ``torchaudio.transforms.MFCC``.\n",
        "\n",
        "\n"
      ]
    }
  ]
}